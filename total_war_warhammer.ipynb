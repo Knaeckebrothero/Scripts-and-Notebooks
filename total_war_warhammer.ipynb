{
 "cells": [
  {
   "cell_type": "markdown",
   "id": "641eaae8",
   "metadata": {},
   "source": [
    "# Skaven Campaign\n",
    "I have chosen the Skaven for a first test examination due to their campain level complexety."
   ]
  },
  {
   "cell_type": "markdown",
   "id": "fea74bf93a45b1c5",
   "metadata": {
    "collapsed": false
   },
   "source": [
    "## Standard Army\n",
    "We start off by building an army to make up the requirements for our situation.\n",
    "\n",
    "### Lord\n",
    "The first importand step to do so is chosing the right lord to lead your default army.\n",
    "\n",
    "For this we do not only need to consider his ability to lead the army or his performance in battle,\n",
    "but also if he has any global bonuses avilable that our faction could benifit from.\n",
    "\n",
    "Since this is an early stage we will simply attempt to estimate the strenght based on experience.\n",
    "\n",
    "#### Grey Seer\n",
    "Upkeep =    250\n",
    "Battle =    Good mount, slow but and okayish in melee, has spells\n",
    "Bonuses =   Diplomatic relations to skaven +10\n",
    "Magic =     Ruin, Plague\n",
    "\n",
    "#### Master Assasin\n",
    "Upkeep =    225\n",
    "Battle =    No mount but fast, good in meely and has good rangeded attak, good for killing enemy lords/heroes\n",
    "Bonuses =   Ambush success chance +10%, Slightly buffs night and gutter runners\n",
    "Magic =     None\n",
    "\n",
    "#### Warlock Master\n",
    "Upkeep =    250\n",
    "Battle =    Good all rounder\n",
    "Bonuses =   Casualty replenishment +9%, Upkeep reduction jezzails, ratlings, warpfirethrowers -15%\n",
    "Magic =     Ruin               \n",
    "\n",
    "#### Warlord\n",
    "Upkeep =    300\n",
    "Battle =    Great mounts for every situation, Strong Melee both in defence and attack\n",
    "Bonuses =   Global +2/2% bonuses growth and income\n",
    "Magic =     None     "
   ]
  },
  {
   "cell_type": "markdown",
   "id": "d62647fc",
   "metadata": {},
   "source": [
    "### Heroes\n",
    "After having selected a Lord we now \n",
    "\n",
    "#### Chieftain\n",
    "Upkeep =    250\n",
    "Battle =    Great mount for every situation, Strong Melee both in defence and attack\n",
    "Bonuses =   5% Ward save for the lord, 10% Ambush defence, +8 Leadership for all units in case the lord dies, \n",
    "increases loyalty of lord over time, can be recruited at t2 with bad building\n",
    "Action =    Training\n",
    "Magic =     None\n",
    "\n",
    "#### Assasin\n",
    "Upkeep =    200\n",
    "Battle =    No mount but fast, good in meely, good for killing enemy lords/heroes\n",
    "Bonuses =   No battle bonuses but can be recruited at t2 at good building\n",
    "Action =    Replenish troops\n",
    "Magic =     None\n",
    "\n",
    "#### Chieftain\n",
    "Upkeep =    \n",
    "Battle =    \n",
    "Bonuses =   \n",
    "Action =    \n",
    "Magic =     \n",
    "\n",
    "#### Warlock Engineer\n",
    "Upkeep =   250\n",
    "Battle =   \n",
    "Bonuses =   \n",
    "Action =    \n",
    "Magic =     \n",
    "\n",
    "#### Chieftain\n",
    "Upkeep =    \n",
    "Battle =    \n",
    "Bonuses =   \n",
    "Action =    \n",
    "Magic ="
   ]
  }
 ],
 "metadata": {
  "kernelspec": {
   "display_name": "Python 3",
   "language": "python",
   "name": "python3"
  },
  "language_info": {
   "codemirror_mode": {
    "name": "ipython",
    "version": 2
   },
   "file_extension": ".py",
   "mimetype": "text/x-python",
   "name": "python",
   "nbconvert_exporter": "python",
   "pygments_lexer": "ipython2",
   "version": "2.7.6"
  }
 },
 "nbformat": 4,
 "nbformat_minor": 5
}
