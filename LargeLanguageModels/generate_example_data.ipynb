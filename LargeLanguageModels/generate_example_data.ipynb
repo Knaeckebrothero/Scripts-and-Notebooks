{
 "cells": [
  {
   "metadata": {},
   "cell_type": "code",
   "source": [
    "# Generate an example from a template\n",
    "def generate_example_from_template(context: str, template: dict):\n",
    "    # Set system prompt\n",
    "    messages = [{\n",
    "        \"role\": \"system\",\n",
    "        \"content\": \"You are a helpful assistant that specializes in generating test data in JSON format. The user will provide you with a JSON structure and you generate a complete example JSON with realistic sounding values.\"}, {\n",
    "        \"role\": \"user\",\n",
    "        \"content\": \"Context: \" + context + \"\\n\\nTemplate: \" + json.dumps(template)}]\n",
    "\n",
    "    # Generate a completion\n",
    "    example_completion = client.chat.completions.create(\n",
    "        model=\"gpt-4o\", \n",
    "        response_format={ \"type\": \"json_object\" },\n",
    "        messages=messages\n",
    "    )\n",
    "    \n",
    "    # Get the generated example\n",
    "    result_string = example_completion.choices[0].message.content\n",
    "    \n",
    "    # Convert the completion to a dictionary\n",
    "    example_dict = json.loads(result_string)\n",
    "    \n",
    "    # Return the generated example\n",
    "    return example_dict"
   ],
   "id": "7424f4fce87d573d",
   "outputs": [],
   "execution_count": null
  },
  {
   "metadata": {},
   "cell_type": "code",
   "source": [
    "import os\n",
    "import dotenv\n",
    "import json\n",
    "from openai import OpenAI\n",
    "\n",
    "\n",
    "# Load the environment variables\n",
    "dotenv.load_dotenv()\n",
    "os.environ['OPENAI_API_KEY'] = os.getenv('OPENAI_API_KEY')\n",
    "\n",
    "# Create an instance of the OpenAI class\n",
    "client = OpenAI()\n",
    "\n",
    "template_context = \"Please generate an example for a german Bank.\"\n",
    "\n",
    "# Define a template for generating an example\n",
    "template_dict = {\n",
    "    \"Bankname\": \"Name as String\",\n",
    "    \"Straße/Haus-Nr\": \"Street and House Number as String\",\n",
    "    \"PLZ/Ort\": \"Postal Code and City as String\",\n",
    "    \"Ansprechpartner\": \"Contact Person as String\",\n",
    "    \"Telefonnummer\": \"Phone Number as String\",\n",
    "    \"E-Mail\": \"Email as String\"\n",
    "}\n",
    "\n",
    "result = generate_example_from_template(template_context, template_dict)\n",
    "\n",
    "print(result['Bankname'])\n",
    "print(result['Straße/Haus-Nr'])\n",
    "print(result['PLZ/Ort'])\n",
    "print(result['Ansprechpartner'])\n",
    "print(result['Telefonnummer'])\n",
    "print(result['E-Mail'])"
   ],
   "id": "805ce994668d6ecb",
   "outputs": [],
   "execution_count": null
  }
 ],
 "metadata": {
  "kernelspec": {
   "display_name": "Python 3",
   "language": "python",
   "name": "python3"
  },
  "language_info": {
   "codemirror_mode": {
    "name": "ipython",
    "version": 2
   },
   "file_extension": ".py",
   "mimetype": "text/x-python",
   "name": "python",
   "nbconvert_exporter": "python",
   "pygments_lexer": "ipython2",
   "version": "2.7.6"
  }
 },
 "nbformat": 4,
 "nbformat_minor": 5
}
