{
 "cells": [
  {
   "cell_type": "code",
   "execution_count": null,
   "metadata": {},
   "outputs": [],
   "source": [
    "from openai import OpenAI\n",
    "\n",
    "\n",
    "def generate_summary(transcript: str) -> str:\n",
    "\n",
    "    # Add the transcript to the context\n",
    "    input = {\"role\": \"user\", \"content\": \"transcript: \" + transcript}\n",
    "    messages.append(input)\n",
    "\n",
    "    # Generate a completion\n",
    "    completion = OpenAI().chat.completions.create(\n",
    "        model=\"gpt-4o-mini\", \n",
    "        # response_format={ \"type\": \"json_object\" },\n",
    "        messages=messages,\n",
    "        temperature=0,\n",
    "        seed=42,\n",
    "        n=1,\n",
    "    )\n",
    "\n",
    "    print(completion)\n",
    "\n",
    "    return completion.choices[0].message.content"
   ]
  },
  {
   "cell_type": "code",
   "execution_count": null,
   "metadata": {},
   "outputs": [],
   "source": [
    "import os\n",
    "from dotenv import load_dotenv, find_dotenv\n",
    "import json\n",
    "\n",
    "\n",
    "# Load environment variables\n",
    "load_dotenv(find_dotenv())\n",
    "# os.environ['OPENAI_API_KEY'] = \"\"\n",
    "openai_api_key = os.getenv(\"OPENAI_API_KEY\")\n",
    "\n",
    "# Load and set up the prompt template\n",
    "with open(\"prompt.txt\", \"r\") as f:\n",
    "    messages = [{\"role\": \"system\", \"content\": f.read()}]\n",
    "\n",
    "with open(\"transcript.json\", \"r\") as f:\n",
    "    transcript = json.load(f)\n",
    "\n",
    "with open(\"result.json\", \"w\") as f:\n",
    "    # Generate the summary\n",
    "    summary = {\n",
    "        \"id\": transcript[\"id\"],\n",
    "        \"summary\": generate_summary(transcript[\"transcript\"])\n",
    "    }\n",
    "\n",
    "    # Write the result to the output file\n",
    "    f.write(json.dumps(summary) + \"\\n\")\n",
    "    \n",
    "    # Print the summary\n",
    "    print(\"Link: \", transcript[\"link\"], \"\\nSummary: \", summary[\"summary\"], \"\\n\")"
   ]
  }
 ],
 "metadata": {
  "kernelspec": {
   "display_name": ".venv",
   "language": "python",
   "name": "python3"
  },
  "language_info": {
   "codemirror_mode": {
    "name": "ipython",
    "version": 3
   },
   "file_extension": ".py",
   "mimetype": "text/x-python",
   "name": "python",
   "nbconvert_exporter": "python",
   "pygments_lexer": "ipython3",
   "version": "3.13.0"
  }
 },
 "nbformat": 4,
 "nbformat_minor": 2
}
