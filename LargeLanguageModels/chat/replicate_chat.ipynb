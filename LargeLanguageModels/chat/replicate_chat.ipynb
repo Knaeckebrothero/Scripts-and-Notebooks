{
 "cells": [
  {
   "cell_type": "code",
   "source": [
    "# https://replicate.com/meta/meta-llama-3.1-405b-instruct/api/schema#input-schema\n",
    "# https://github.com/meta-llama/llama-recipes\n",
    "prompt = \"\"\"\n",
    "\"\"\""
   ],
   "metadata": {
    "collapsed": false
   },
   "id": "27599b803d448592",
   "outputs": [],
   "execution_count": null
  },
  {
   "cell_type": "code",
   "source": [
    "import replicate\n",
    "import dotenv\n",
    "\n",
    "dotenv.load_dotenv(dotenv.find_dotenv())\n",
    "\n",
    "# Make an API call to get the webhook.\n",
    "webhook = replicate.run(\n",
    "    \"meta/meta-llama-3.1-405b-instruct\",\n",
    "    input={\n",
    "        \"prompt\": prompt\n",
    "    })\n",
    "\n",
    "# Iterate over the webhook and concatenate the output.\n",
    "for item in webhook:\n",
    "    print(item, end=\"\")"
   ],
   "metadata": {
    "collapsed": false
   },
   "id": "b6577a28766187a4",
   "outputs": [],
   "execution_count": null
  }
 ],
 "metadata": {
  "kernelspec": {
   "display_name": "Python 3",
   "language": "python",
   "name": "python3"
  },
  "language_info": {
   "codemirror_mode": {
    "name": "ipython",
    "version": 2
   },
   "file_extension": ".py",
   "mimetype": "text/x-python",
   "name": "python",
   "nbconvert_exporter": "python",
   "pygments_lexer": "ipython2",
   "version": "2.7.6"
  }
 },
 "nbformat": 4,
 "nbformat_minor": 5
}
