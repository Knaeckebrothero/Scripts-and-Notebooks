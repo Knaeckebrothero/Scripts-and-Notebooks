{
 "cells": [
  {
   "cell_type": "code",
   "execution_count": null,
   "outputs": [],
   "source": [
    "system_prompt = \"\"\"\n",
    "\"\"\""
   ],
   "metadata": {
    "collapsed": false
   },
   "id": "27599b803d448592"
  },
  {
   "cell_type": "code",
   "execution_count": null,
   "outputs": [],
   "source": [
    "import replicate\n",
    "\n",
    "\n",
    "# Make an API call to get the webhook.\n",
    "webhook = replicate.run(\n",
    "    \"meta/llama-2-70b-chat:02e509c789964a7ea8736978a43525956ef40397be9033abf9fd2badfe68c9e3\",\n",
    "    input={\"prompt\": prompt, \"system_prompt\": system_prompt})\n",
    "\n",
    "# Iterate over the webhook and concatenate the output.\n",
    "for item in webhook:\n",
    "    print(item, end=\"\")\n"
   ],
   "metadata": {
    "collapsed": false
   },
   "id": "b6577a28766187a4"
  }
 ],
 "metadata": {
  "kernelspec": {
   "display_name": "Python 3",
   "language": "python",
   "name": "python3"
  },
  "language_info": {
   "codemirror_mode": {
    "name": "ipython",
    "version": 2
   },
   "file_extension": ".py",
   "mimetype": "text/x-python",
   "name": "python",
   "nbconvert_exporter": "python",
   "pygments_lexer": "ipython2",
   "version": "2.7.6"
  }
 },
 "nbformat": 4,
 "nbformat_minor": 5
}
