{
 "cells": [
  {
   "metadata": {},
   "cell_type": "code",
   "source": [
    "# Imports\n",
    "import csv\n",
    "import pandas as pd\n",
    "\n",
    "\n",
    "# Map range to hour value\n",
    "def map_hours(hours):\n",
    "    match int(hours):\n",
    "        case 1:\n",
    "            return 20\n",
    "        case 2:\n",
    "            return 25\n",
    "        case 3:\n",
    "            return 35\n",
    "        case 4:\n",
    "            return 40\n",
    "        case 5:\n",
    "            return 50\n",
    "        case _:\n",
    "            return None\n",
    "\n",
    "# Convert busy times to a dictionary that can be analyzed\n",
    "def map_busy_times(times: list[str]):\n",
    "    # Initialize dictionary with empty lists for each day\n",
    "    busy_times = {\n",
    "        'Montag': [],\n",
    "        'Dienstag': [],\n",
    "        'Mittwoch': [],\n",
    "        'Donnerstag': [],\n",
    "        'Freitag': [],\n",
    "        'Samstag': [],\n",
    "        'Sonntag': []\n",
    "    }\n",
    "\n",
    "    # Assuming specific hours are represented by the index positions of times\n",
    "    # e.g., times[0] corresponds to 8-9, times[1] to 9-10, etc., starting at 8.\n",
    "    for index, time in enumerate(times):\n",
    "        # Check if the string is not empty\n",
    "        if time:\n",
    "            # Split days\n",
    "            split_days = time.split(';')\n",
    "            # Calculate the corresponding hour based on index\n",
    "            hour = 8 + index\n",
    "            for day in split_days:\n",
    "                match day:\n",
    "                    case 'Montag':\n",
    "                        busy_times['Montag'].append(hour)\n",
    "                    case 'Dienstag':\n",
    "                        busy_times['Dienstag'].append(hour)\n",
    "                    case 'Mittwoch':\n",
    "                        busy_times['Mittwoch'].append(hour)\n",
    "                    case 'Donnerstag':\n",
    "                        busy_times['Donnerstag'].append(hour)\n",
    "                    case 'Freitag':\n",
    "                        busy_times['Freitag'].append(hour)\n",
    "                    case 'Samstag':\n",
    "                        busy_times['Samstag'].append(hour)\n",
    "                    case 'Sonntag':\n",
    "                        busy_times['Sonntag'].append(hour)\n",
    "\n",
    "    return busy_times"
   ],
   "id": "ebd47fdc649a867b",
   "outputs": [],
   "execution_count": null
  },
  {
   "cell_type": "code",
   "id": "initial_id",
   "metadata": {
    "collapsed": true
   },
   "source": [
    "# Variables\n",
    "csv_data = r'path'\n",
    "\n",
    "# Create an empty DataFrame with the desired column names\n",
    "column_names = ['Stärken', 'Schwächen', 'Termine', 'Zeit', 'ZeitMap', 'Ideen', 'Motivation', 'Ziel']\n",
    "data = pd.DataFrame(columns=column_names)\n",
    "map_data = []\n",
    "\n",
    "# Read CSV file\n",
    "with open(csv_data, mode='r') as file:\n",
    "    csv_reader = csv.reader(file)\n",
    "    \n",
    "    # Skip header\n",
    "    next(csv_reader)\n",
    "    \n",
    "    # Load and convert rows\n",
    "    for row in csv_reader:\n",
    "        new_row = row[1:4] + [map_hours(row[4]), map_busy_times(row[5:18])] + row[18:]\n",
    "        map_data.append(new_row)\n",
    "        row_dict = {column_names[i]: new_row[i] for i in range(len(new_row))}\n",
    "        data = data._append(row_dict, ignore_index=True)"
   ],
   "outputs": [],
   "execution_count": null
  },
  {
   "metadata": {},
   "cell_type": "code",
   "source": [
    "# Imports\n",
    "import pandas as pd\n",
    "import matplotlib.pyplot as plt\n",
    "import seaborn as sns\n",
    "import matplotlib.colors as mcolors\n",
    "\n",
    "\n",
    "# Aggregate data\n",
    "def aggregate_availability(data_schedule_list):\n",
    "    # Create a dictionary to store aggregated availability counts\n",
    "    hours = range(8, 21)  # 8 AM to 8 PM\n",
    "    days_of_week = ['Montag', 'Dienstag', 'Mittwoch', 'Donnerstag', 'Freitag', 'Samstag', 'Sonntag']\n",
    "    availability = pd.DataFrame(0, index=hours, columns=days_of_week)\n",
    "\n",
    "    for entry in data_schedule_list:\n",
    "        if len(entry) > 4 and isinstance(entry[4], dict):  # Check if the availability data exists\n",
    "            for day, hours_list in entry[4].items():\n",
    "                for hour in hours_list:\n",
    "                    if day in availability.columns and hour in availability.index:\n",
    "                        availability.at[hour, day] += 1\n",
    "\n",
    "    return availability\n",
    "\n",
    "# Heatmap\n",
    "def plot_heatmap(availability_matrix):\n",
    "    # Create custom color colormap\n",
    "    colors = [\"blue\", \"red\"]  # 'blue' for least busy, 'red' for most busy\n",
    "    cmap = mcolors.LinearSegmentedColormap.from_list(\"custom_blue_red\", colors, N=100)\n",
    "    \n",
    "    # Create the heatmap\n",
    "    plt.figure(figsize=(12, 10))\n",
    "    sns.heatmap(availability_matrix, annot=True, cmap=cmap, cbar_kws={'label': 'Anzahl besch. Personen'})\n",
    "    plt.ylabel(\"Tageszeit (Stunden)\")\n",
    "    plt.yticks(rotation=0)  # Keep the hour labels horizontal for better readability\n",
    "    plt.show()"
   ],
   "id": "198f003035e45efc",
   "outputs": [],
   "execution_count": null
  },
  {
   "metadata": {},
   "cell_type": "code",
   "source": [
    "# Aggregate availability data and plot it as a heatmap\n",
    "# plot_heatmap(aggregate_availability(map_data))"
   ],
   "id": "cbe7d581b40325b0",
   "outputs": [],
   "execution_count": null
  },
  {
   "metadata": {
    "jupyter": {
     "is_executing": true
    }
   },
   "cell_type": "code",
   "source": [
    "import networkx as nx\n",
    "import matplotlib.pyplot as plt\n",
    "\n",
    "def plot_text_network(personas, key):\n",
    "    # Create a graph\n",
    "    graph_to_plot = nx.Graph()\n",
    "\n",
    "    # Variable to keep track of the previous node to potentially create edges if needed\n",
    "    previous_node = None\n",
    "\n",
    "    # Add nodes and edges based on your data. Here's a simplistic approach:\n",
    "    for persona in personas[key]:\n",
    "        current_node = persona  # Extract the relevant information using the key\n",
    "        graph_to_plot.add_node(current_node)  # Add each item as a node\n",
    "\n",
    "\n",
    "    # Draw the graph\n",
    "    plt.figure(figsize=(12, 12))\n",
    "    pos = nx.spring_layout(graph_to_plot)  # positions for all nodes\n",
    "    nx.draw(graph_to_plot, pos, with_labels=True, font_weight='bold', node_color='skyblue', node_size=3000, font_size=9)\n",
    "    plt.title('Text Input Visualization')\n",
    "    plt.show()"
   ],
   "id": "bda372cfd8d2c4fa",
   "outputs": [],
   "execution_count": null
  },
  {
   "metadata": {
    "jupyter": {
     "is_executing": true
    }
   },
   "cell_type": "code",
   "source": [
    "import matplotlib.pyplot as plt\n",
    "import numpy as np\n",
    "\n",
    "def insert_line_breaks(text, max_width=35):\n",
    "    \"\"\" Insert line breaks into text based on maximum width allowed. \"\"\"\n",
    "    words = text.split()\n",
    "    lines = []\n",
    "    current_line = []\n",
    "    current_length = 0\n",
    "\n",
    "    for word in words:\n",
    "        if current_length + len(word) > max_width:\n",
    "            lines.append(' '.join(current_line))\n",
    "            current_line = [word]\n",
    "            current_length = len(word) + 1  # include space\n",
    "        else:\n",
    "            current_line.append(word)\n",
    "            current_length += len(word) + 1  # include space\n",
    "    lines.append(' '.join(current_line))  # Add last line\n",
    "    return '\\n'.join(lines)\n",
    "\n",
    "def plot_texts(texts):\n",
    "    fig, ax = plt.subplots(figsize=(20, 20))\n",
    "    ax.set_xlim(0, 1)\n",
    "    ax.set_ylim(0, 1)\n",
    "    ax.axis('off')\n",
    "\n",
    "    annotations = []\n",
    "    for text in texts:\n",
    "        text = insert_line_breaks(text)\n",
    "        x, y = np.random.rand(2)\n",
    "        while True:\n",
    "            test_annotation = ax.text(x, y, text, ha='center', va='center', fontsize=15, \n",
    "                                      bbox=dict(facecolor='yellow', alpha=0.5, boxstyle='round,pad=0.5'))\n",
    "            plt.draw()\n",
    "            bbox = test_annotation.get_window_extent()\n",
    "            if not any(bbox.overlaps(other.get_window_extent()) for other in annotations):\n",
    "                annotations.append(test_annotation)\n",
    "                break\n",
    "            test_annotation.remove()  # Remove the annotation if it overlaps any others\n",
    "            x, y = np.random.rand(2)  # Pick a new random position and try again\n",
    "\n",
    "    plt.show()"
   ],
   "id": "9cb8c3f7d5d8b54d",
   "outputs": [],
   "execution_count": null
  },
  {
   "metadata": {
    "jupyter": {
     "is_executing": true
    }
   },
   "cell_type": "code",
   "source": [
    "# Plot time data\n",
    "plot_heatmap(aggregate_availability(map_data))\n",
    "plot_texts(data['Termine'])\n",
    "\n",
    "# Make scatter with Zeit and tags"
   ],
   "id": "ba075c01fc724daa",
   "outputs": [],
   "execution_count": null
  },
  {
   "metadata": {
    "jupyter": {
     "is_executing": true
    }
   },
   "cell_type": "code",
   "source": [
    "# Plot the text data\n",
    "print('Worin siehst du deine Stärken und wie können diese das Projekt positiv beeinflussen?\\n')\n",
    "plot_texts(data['Stärken'])"
   ],
   "id": "b449623b71e725a0",
   "outputs": [],
   "execution_count": null
  },
  {
   "metadata": {
    "jupyter": {
     "is_executing": true
    }
   },
   "cell_type": "code",
   "source": [
    "print('Was liegt dir weniger?')\n",
    "plot_texts(data['Schwächen'])"
   ],
   "id": "3674fe11f0e33c3",
   "outputs": [],
   "execution_count": null
  },
  {
   "metadata": {
    "jupyter": {
     "is_executing": true
    }
   },
   "cell_type": "code",
   "source": [
    "print('Welche Ideen / Einfälle sind dir während des Einarbeitens in das Projekt gekommen?')\n",
    "plot_texts(data['Ideen'])"
   ],
   "id": "ab2a4faad08257dd",
   "outputs": [],
   "execution_count": null
  },
  {
   "metadata": {},
   "cell_type": "code",
   "source": [
    "print('Was ist deine Motivation im Projekt?')\n",
    "plot_texts(data['Motivation'])"
   ],
   "id": "c517bc55c38fb88e",
   "outputs": [],
   "execution_count": null
  },
  {
   "metadata": {},
   "cell_type": "code",
   "source": [
    "print('Was ist dein angestrebtes Ziel?')\n",
    "plot_texts(data['Ziel'])"
   ],
   "id": "3be657b65a38fbba",
   "outputs": [],
   "execution_count": null
  }
 ],
 "metadata": {
  "kernelspec": {
   "display_name": "Python 3",
   "language": "python",
   "name": "python3"
  },
  "language_info": {
   "codemirror_mode": {
    "name": "ipython",
    "version": 2
   },
   "file_extension": ".py",
   "mimetype": "text/x-python",
   "name": "python",
   "nbconvert_exporter": "python",
   "pygments_lexer": "ipython2",
   "version": "2.7.6"
  }
 },
 "nbformat": 4,
 "nbformat_minor": 5
}
