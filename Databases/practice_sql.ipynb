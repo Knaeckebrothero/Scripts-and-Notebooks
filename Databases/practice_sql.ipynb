{
 "cells": [
  {
   "cell_type": "code",
   "execution_count": 18,
   "metadata": {
    "collapsed": true,
    "ExecuteTime": {
     "end_time": "2023-07-06T10:49:26.453703400Z",
     "start_time": "2023-07-06T10:49:26.446649500Z"
    }
   },
   "outputs": [],
   "source": [
    "import sqlite3\n",
    "\n",
    "# Setup db & cursor\n",
    "db = sqlite3.connect(\":memory:\")\n",
    "c = db.cursor()"
   ]
  },
  {
   "cell_type": "code",
   "execution_count": 19,
   "outputs": [],
   "source": [
    "# Insert some data\n",
    "c.executescript(\"\"\"\n",
    "CREATE table \"INVENTORY\" (\n",
    "\"ITEM\" VARCHAR2(10),\n",
    "\"COLOR\" VARCHAR2(5),\n",
    "\"QUANTITY\" NUMERIC(3)\n",
    ");\n",
    "insert into INVENTORY values ('Table','Blue',124);\n",
    "insert into INVENTORY values ('Table','Red',223);\n",
    "insert into INVENTORY values ('Chair','Blue',101);\n",
    "insert into INVENTORY values ('Chair','Red',210);\n",
    "\"\"\")\n",
    "db.commit()"
   ],
   "metadata": {
    "collapsed": false,
    "ExecuteTime": {
     "end_time": "2023-07-06T10:49:27.907243700Z",
     "start_time": "2023-07-06T10:49:27.900730800Z"
    }
   }
  },
  {
   "cell_type": "code",
   "execution_count": 20,
   "outputs": [
    {
     "name": "stdout",
     "output_type": "stream",
     "text": [
      "('Table', 'Blue', 124)\n",
      "('Table', 'Red', 223)\n",
      "('Chair', 'Blue', 101)\n",
      "('Chair', 'Red', 210)\n"
     ]
    }
   ],
   "source": [
    "# See db contents\n",
    "c.execute(\"\"\"\n",
    "select * from INVENTORY\n",
    "\"\"\")\n",
    "rows = c.fetchall()\n",
    "for row in rows:\n",
    "    print(row)"
   ],
   "metadata": {
    "collapsed": false,
    "ExecuteTime": {
     "end_time": "2023-07-06T10:49:56.034590Z",
     "start_time": "2023-07-06T10:49:56.026501200Z"
    }
   }
  },
  {
   "cell_type": "code",
   "execution_count": 25,
   "outputs": [
    {
     "name": "stdout",
     "output_type": "stream",
     "text": [
      "('Chair', 311, 155.5, 101, 210)\n",
      "('Table', 347, 173.5, 124, 223)\n"
     ]
    }
   ],
   "source": [
    "# Basic aggregation\n",
    "c.execute(\"\"\"\n",
    "select item, sum(QUANTITY), avg(QUANTITY), min(QUANTITY), max(QUANTITY)\n",
    "from INVENTORY group by item\n",
    "order by ITEM\n",
    "\"\"\")\n",
    "rows = c.fetchall()\n",
    "for row in rows:\n",
    "    print(row)"
   ],
   "metadata": {
    "collapsed": false,
    "ExecuteTime": {
     "end_time": "2023-07-06T10:54:04.798385200Z",
     "start_time": "2023-07-06T10:54:04.772374800Z"
    }
   }
  },
  {
   "cell_type": "code",
   "execution_count": 26,
   "outputs": [
    {
     "ename": "OperationalError",
     "evalue": "no such function: CUBE",
     "output_type": "error",
     "traceback": [
      "\u001B[1;31m---------------------------------------------------------------------------\u001B[0m",
      "\u001B[1;31mOperationalError\u001B[0m                          Traceback (most recent call last)",
      "Cell \u001B[1;32mIn[26], line 1\u001B[0m\n\u001B[1;32m----> 1\u001B[0m \u001B[43mc\u001B[49m\u001B[38;5;241;43m.\u001B[39;49m\u001B[43mexecute\u001B[49m\u001B[43m(\u001B[49m\u001B[38;5;124;43m\"\"\"\u001B[39;49m\n\u001B[0;32m      2\u001B[0m \u001B[38;5;124;43mSELECT Item, Color, SUM(Quantity)\u001B[39;49m\n\u001B[0;32m      3\u001B[0m \u001B[38;5;124;43mFROM Inventory\u001B[39;49m\n\u001B[0;32m      4\u001B[0m \u001B[38;5;124;43mGROUP BY CUBE (Item, Color)\u001B[39;49m\n\u001B[0;32m      5\u001B[0m \u001B[38;5;124;43m\"\"\"\u001B[39;49m\u001B[43m)\u001B[49m\n\u001B[0;32m      6\u001B[0m rows \u001B[38;5;241m=\u001B[39m c\u001B[38;5;241m.\u001B[39mfetchall()\n\u001B[0;32m      7\u001B[0m \u001B[38;5;28;01mfor\u001B[39;00m row \u001B[38;5;129;01min\u001B[39;00m rows:\n",
      "\u001B[1;31mOperationalError\u001B[0m: no such function: CUBE"
     ]
    }
   ],
   "source": [
    "# CUBE function\n",
    "c.execute(\"\"\"\n",
    "SELECT Item, Color, SUM(Quantity)\n",
    "FROM Inventory\n",
    "GROUP BY CUBE (Item, Color)\n",
    "\"\"\")\n",
    "rows = c.fetchall()\n",
    "for row in rows:\n",
    "    print(row)"
   ],
   "metadata": {
    "collapsed": false,
    "ExecuteTime": {
     "end_time": "2023-07-06T10:55:32.783482600Z",
     "start_time": "2023-07-06T10:55:32.757620300Z"
    }
   }
  },
  {
   "cell_type": "code",
   "execution_count": 27,
   "outputs": [
    {
     "name": "stdout",
     "output_type": "stream",
     "text": [
      "('Chair', 'Blue', 101)\n",
      "('Chair', 'Red', 210)\n",
      "('Table', 'Blue', 124)\n",
      "('Table', 'Red', 223)\n",
      "('Chair', None, 311)\n",
      "('Table', None, 347)\n",
      "(None, 'Blue', 225)\n",
      "(None, 'Red', 433)\n",
      "(None, None, 658)\n"
     ]
    }
   ],
   "source": [
    "# Replacement for CUBE function which doesn't exist in sqlite.\n",
    "c.execute(\"\"\"\n",
    "SELECT Item, Color, SUM(Quantity)\n",
    "FROM Inventory\n",
    "GROUP BY Item, Color\n",
    "UNION ALL\n",
    "SELECT Item, NULL, SUM(Quantity)\n",
    "FROM Inventory\n",
    "GROUP BY Item\n",
    "UNION ALL\n",
    "SELECT NULL, Color, SUM(Quantity)\n",
    "FROM Inventory\n",
    "GROUP BY Color\n",
    "UNION ALL\n",
    "SELECT NULL, NULL, SUM(Quantity)\n",
    "FROM Inventory;\n",
    "\"\"\")\n",
    "rows = c.fetchall()\n",
    "for row in rows:\n",
    "    print(row)"
   ],
   "metadata": {
    "collapsed": false,
    "ExecuteTime": {
     "end_time": "2023-07-06T11:01:31.080440400Z",
     "start_time": "2023-07-06T11:01:31.074929500Z"
    }
   }
  }
 ],
 "metadata": {
  "kernelspec": {
   "display_name": "Python 3",
   "language": "python",
   "name": "python3"
  },
  "language_info": {
   "codemirror_mode": {
    "name": "ipython",
    "version": 2
   },
   "file_extension": ".py",
   "mimetype": "text/x-python",
   "name": "python",
   "nbconvert_exporter": "python",
   "pygments_lexer": "ipython2",
   "version": "2.7.6"
  }
 },
 "nbformat": 4,
 "nbformat_minor": 0
}
