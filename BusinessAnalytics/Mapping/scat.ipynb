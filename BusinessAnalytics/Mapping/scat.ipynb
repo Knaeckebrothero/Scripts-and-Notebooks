{
 "cells": [
  {
   "cell_type": "code",
   "execution_count": null,
   "metadata": {},
   "outputs": [],
   "source": [
    "data = dict(){'name': str, 'income': int, 'age': int, 'bonitätsklasse': str}\n",
    "\n",
    "{\n",
    "    name: str, income: int, age: int, bonitätsklasse: str,\n",
    "}\n",
    "\n",
    "data = {'Adam Ammerer', 10000, age: int, bonitätsklasse: str}"
   ]
  }
 ],
 "metadata": {
  "language_info": {
   "name": "python"
  }
 },
 "nbformat": 4,
 "nbformat_minor": 2
}
