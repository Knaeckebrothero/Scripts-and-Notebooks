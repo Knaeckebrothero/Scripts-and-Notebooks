{
 "cells": [
  {
   "cell_type": "code",
   "execution_count": 2,
   "id": "initial_id",
   "metadata": {
    "collapsed": true,
    "ExecuteTime": {
     "end_time": "2023-08-29T21:10:06.638296800Z",
     "start_time": "2023-08-29T21:10:06.632789600Z"
    }
   },
   "outputs": [],
   "source": [
    "# Imports\n",
    "import os\n",
    "import guidance\n",
    "import openai\n",
    "from dotenv import load_dotenv\n",
    "\n",
    "# Load API key\n",
    "load_dotenv()\n",
    "openai.api_key = os.getenv('OPENAI_API_KEY')\n",
    "# Set default language model\n",
    "guidance.llm = guidance.llms.OpenAI(\"gpt-4\")"
   ]
  },
  {
   "cell_type": "code",
   "execution_count": 3,
   "outputs": [],
   "source": [
    "# define a guidance program that adapts a proverb\n",
    "recipe = guidance(\"\"\"\n",
    "{{#system~}}\n",
    "You are a helpful assistant that specializes in extracting\n",
    "and information from a recipe and formatting it into a JSON object with the following structure:\n",
    "\n",
    "```json\n",
    "{\n",
    "    \"title\": \"{This is where the name of the recipe goes}\",\n",
    "    \"portions\": \"{This is where the number of portions go}\",\n",
    "    \"kcal\": \"{This is where the kcal go}\",\n",
    "    \"main_ingredients\": {This is where the main ingredients like meat, fish, vegetables, etc. go},\n",
    "    \"spices\": \"{This is where the spices go}\",\n",
    "    \"extras\": \"{This is where the extras like fresh chopped parsley, etc. go}\",\n",
    "    \"preparation_time\": \"{This is where the preparation time goes}\",\n",
    "    \"preparation_steps\": \"{This is where the preparation steps like cut the meat into small pieces, etc. go}\",\n",
    "    \"cooking_steps\": {This is where the cooking steps like fry the meat, etc. go},\n",
    "    \"serving_steps\": {This is where the serving steps like serve with the fresh chopped parsley sprinkled on top, \n",
    "    etc. go}\n",
    "}```\n",
    "\n",
    "When the user provides you with a text input, you will return a JSON object \n",
    "with the information extracted from the text input.\n",
    "Do not make up or hallucinate any of the attributes.\n",
    "Simply insert the word <missing> in case a specific attribute is missing.\n",
    "{{#system~}}\n",
    "\n",
    "{{#user~}}\n",
    "{{recipe}}\n",
    "{{~/user}}\n",
    "\n",
    "{{#assistant~}}\n",
    "{{gen 'recipe.json' temperature=0 max_tokens=1024}}\n",
    "{{~/assistant}}\n",
    "\"\"\")"
   ],
   "metadata": {
    "collapsed": false,
    "ExecuteTime": {
     "end_time": "2023-08-29T21:10:09.819643900Z",
     "start_time": "2023-08-29T21:10:09.814639100Z"
    }
   },
   "id": "cc4956902d1b4148"
  },
  {
   "cell_type": "code",
   "execution_count": 4,
   "outputs": [
    {
     "ename": "SyntaxException",
     "evalue": "Expected end of text, found '{'  (at char 1), (line:2, col:1)\nPerhaps the block command was not correctly closed?\n\n{{#system~}}\nYou are a helpful assistant\n^\n",
     "output_type": "error",
     "traceback": [
      "\u001B[1;31m---------------------------------------------------------------------------\u001B[0m",
      "\u001B[1;31mSyntaxException\u001B[0m                           Traceback (most recent call last)",
      "Cell \u001B[1;32mIn[4], line 4\u001B[0m\n\u001B[0;32m      1\u001B[0m \u001B[38;5;28;01mfrom\u001B[39;00m \u001B[38;5;21;01mdev_tools\u001B[39;00m \u001B[38;5;28;01mimport\u001B[39;00m read \u001B[38;5;28;01mas\u001B[39;00m rd\n\u001B[0;32m      3\u001B[0m \u001B[38;5;66;03m# execute the program on a specific proverb\u001B[39;00m\n\u001B[1;32m----> 4\u001B[0m formated_recipe \u001B[38;5;241m=\u001B[39m \u001B[43mrecipe\u001B[49m\u001B[43m(\u001B[49m\n\u001B[0;32m      5\u001B[0m \u001B[43m    \u001B[49m\u001B[43mrecipe\u001B[49m\u001B[38;5;241;43m=\u001B[39;49m\u001B[43mrd\u001B[49m\u001B[38;5;241;43m.\u001B[39;49m\u001B[43mtext_data\u001B[49m\u001B[43m(\u001B[49m\u001B[38;5;124;43m'\u001B[39;49m\u001B[38;5;124;43mrecipe.txt\u001B[39;49m\u001B[38;5;124;43m'\u001B[39;49m\u001B[43m)\u001B[49m\u001B[43m)\u001B[49m\n",
      "File \u001B[1;32m~\\AppData\\Local\\Programs\\Python\\Python311\\Lib\\site-packages\\guidance\\_program.py:268\u001B[0m, in \u001B[0;36mProgram.__call__\u001B[1;34m(self, **kwargs)\u001B[0m\n\u001B[0;32m    259\u001B[0m new_program \u001B[38;5;241m=\u001B[39m Program(\n\u001B[0;32m    260\u001B[0m     text\u001B[38;5;241m=\u001B[39m\u001B[38;5;28mself\u001B[39m\u001B[38;5;241m.\u001B[39mmarked_text,\n\u001B[0;32m    261\u001B[0m \n\u001B[1;32m   (...)\u001B[0m\n\u001B[0;32m    264\u001B[0m     \u001B[38;5;241m*\u001B[39m\u001B[38;5;241m*\u001B[39m{\u001B[38;5;241m*\u001B[39m\u001B[38;5;241m*\u001B[39m{k: v \u001B[38;5;28;01mif\u001B[39;00m \u001B[38;5;28mcallable\u001B[39m(v) \u001B[38;5;28;01melse\u001B[39;00m copy\u001B[38;5;241m.\u001B[39mdeepcopy(v) \u001B[38;5;28;01mfor\u001B[39;00m k,v \u001B[38;5;129;01min\u001B[39;00m \u001B[38;5;28mself\u001B[39m\u001B[38;5;241m.\u001B[39m_variables\u001B[38;5;241m.\u001B[39mitems()}, \u001B[38;5;241m*\u001B[39m\u001B[38;5;241m*\u001B[39mkwargs}\n\u001B[0;32m    265\u001B[0m )\n\u001B[0;32m    267\u001B[0m \u001B[38;5;66;03m# create an executor for the new program (this also marks the program as executing)\u001B[39;00m\n\u001B[1;32m--> 268\u001B[0m new_program\u001B[38;5;241m.\u001B[39m_executor \u001B[38;5;241m=\u001B[39m \u001B[43mProgramExecutor\u001B[49m\u001B[43m(\u001B[49m\u001B[43mnew_program\u001B[49m\u001B[43m)\u001B[49m\n\u001B[0;32m    270\u001B[0m \u001B[38;5;66;03m# if we are in async mode, schedule the program in the current event loop\u001B[39;00m\n\u001B[0;32m    271\u001B[0m \u001B[38;5;28;01mif\u001B[39;00m new_program\u001B[38;5;241m.\u001B[39masync_mode:\n",
      "File \u001B[1;32m~\\AppData\\Local\\Programs\\Python\\Python311\\Lib\\site-packages\\guidance\\_program_executor.py:64\u001B[0m, in \u001B[0;36mProgramExecutor.__init__\u001B[1;34m(self, program)\u001B[0m\n\u001B[0;32m     61\u001B[0m msg \u001B[38;5;241m+\u001B[39m\u001B[38;5;241m=\u001B[39m program\u001B[38;5;241m.\u001B[39m_text[e\u001B[38;5;241m.\u001B[39mloc:e\u001B[38;5;241m.\u001B[39mloc\u001B[38;5;241m+\u001B[39m\u001B[38;5;241m40\u001B[39m] \u001B[38;5;241m+\u001B[39m \u001B[38;5;124m\"\u001B[39m\u001B[38;5;130;01m\\n\u001B[39;00m\u001B[38;5;124m\"\u001B[39m\n\u001B[0;32m     62\u001B[0m msg \u001B[38;5;241m+\u001B[39m\u001B[38;5;241m=\u001B[39m \u001B[38;5;124m\"\u001B[39m\u001B[38;5;124m \u001B[39m\u001B[38;5;124m\"\u001B[39m \u001B[38;5;241m*\u001B[39m \u001B[38;5;28mlen\u001B[39m(initial_str) \u001B[38;5;241m+\u001B[39m \u001B[38;5;124m\"\u001B[39m\u001B[38;5;124m^\u001B[39m\u001B[38;5;130;01m\\n\u001B[39;00m\u001B[38;5;124m\"\u001B[39m\n\u001B[1;32m---> 64\u001B[0m \u001B[38;5;28;01mraise\u001B[39;00m SyntaxException(msg, e) \u001B[38;5;28;01mfrom\u001B[39;00m \u001B[38;5;28;01mNone\u001B[39;00m\n",
      "\u001B[1;31mSyntaxException\u001B[0m: Expected end of text, found '{'  (at char 1), (line:2, col:1)\nPerhaps the block command was not correctly closed?\n\n{{#system~}}\nYou are a helpful assistant\n^\n"
     ]
    }
   ],
   "source": [
    "from dev_tools import read as rd\n",
    "\n",
    "# execute the program on a specific proverb\n",
    "formated_recipe = recipe(\n",
    "    recipe=rd.text_data('recipe.txt'))"
   ],
   "metadata": {
    "collapsed": false,
    "ExecuteTime": {
     "end_time": "2023-08-29T21:10:15.188647800Z",
     "start_time": "2023-08-29T21:10:14.886396900Z"
    }
   },
   "id": "fce3592e934b9b0e"
  }
 ],
 "metadata": {
  "kernelspec": {
   "display_name": "Python 3",
   "language": "python",
   "name": "python3"
  },
  "language_info": {
   "codemirror_mode": {
    "name": "ipython",
    "version": 2
   },
   "file_extension": ".py",
   "mimetype": "text/x-python",
   "name": "python",
   "nbconvert_exporter": "python",
   "pygments_lexer": "ipython2",
   "version": "2.7.6"
  }
 },
 "nbformat": 4,
 "nbformat_minor": 5
}
