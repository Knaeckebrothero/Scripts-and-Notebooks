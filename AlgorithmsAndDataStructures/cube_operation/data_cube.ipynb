{
 "cells": [
  {
   "cell_type": "code",
   "execution_count": 16,
   "metadata": {},
   "outputs": [],
   "source": [
    "import pandas as pd\n",
    "\n",
    "# Sample data\n",
    "dataframe = pd.read_csv('sample_data.csv')"
   ]
  },
  {
   "cell_type": "code",
   "execution_count": 17,
   "metadata": {},
   "outputs": [],
   "source": [
    "# Function to calculate stats\n",
    "def calculate_stats(filter_result):\n",
    "    q1 = filter_result.quantile(0.25)\n",
    "    q3 = filter_result.quantile(0.75)\n",
    "    iqr = q3 - q1\n",
    "\n",
    "    # Calculating the lower and upper whiskers\n",
    "    lower_whisker = q1 - 1.5 * iqr\n",
    "    upper_whisker = q3 + 1.5 * iqr\n",
    "\n",
    "    return {\n",
    "        'Average': round(filter_result.mean()),\n",
    "        'Quantile_25': round(q1),\n",
    "        'Quantile_50': round(filter_result.quantile(0.50)),\n",
    "        'Quantile_75': round(q3),\n",
    "        'Lower_Whisker': round(lower_whisker),\n",
    "        'Upper_Whisker': round(upper_whisker)\n",
    "    }"
   ]
  },
  {
   "cell_type": "code",
   "execution_count": 18,
   "metadata": {},
   "outputs": [],
   "source": [
    "# Function to apply the stats calculation to each group\n",
    "def calculate_group_stats(group):\n",
    "    stats = calculate_stats(group['value'])\n",
    "    stats.update({\n",
    "        'keyfigure': group.name[0], \n",
    "        'state': group.name[1], \n",
    "        'year': group.name[2]\n",
    "        })\n",
    "    return pd.Series(stats)"
   ]
  },
  {
   "cell_type": "code",
   "execution_count": 19,
   "metadata": {},
   "outputs": [
    {
     "name": "stdout",
     "output_type": "stream",
     "text": [
      "   Average  Quantile_25  Quantile_50  Quantile_75  Lower_Whisker  \\\n",
      "0       48           22           47           70            -52   \n",
      "1       51           23           48           82            -64   \n",
      "2       50           20           51           75            -62   \n",
      "3       48           30           46           72            -34   \n",
      "4       48           22           41           76            -59   \n",
      "5       46           17           46           66            -56   \n",
      "6       51           26           48           78            -50   \n",
      "7       50           30           51           70            -29   \n",
      "\n",
      "   Upper_Whisker  keyfigure  state  year  \n",
      "0            143          1      1     1  \n",
      "1            170          1      1     2  \n",
      "2            158          1      2     1  \n",
      "3            136          1      2     2  \n",
      "4            157          2      1     1  \n",
      "5            140          2      1     2  \n",
      "6            154          2      2     1  \n",
      "7            129          2      2     2  \n"
     ]
    }
   ],
   "source": [
    "# Group data by the desired columns\n",
    "grouped_df = dataframe.groupby(['keyfigure', 'state', 'year'])\n",
    "\n",
    "# Apply the function to each group and reset index to flatten the DataFrame\n",
    "results_df = grouped_df.apply(calculate_group_stats).reset_index(drop=True)\n",
    "\n",
    "# Display final results\n",
    "print(results_df)"
   ]
  }
 ],
 "metadata": {
  "kernelspec": {
   "display_name": "Python 3",
   "language": "python",
   "name": "python3"
  },
  "language_info": {
   "codemirror_mode": {
    "name": "ipython",
    "version": 3
   },
   "file_extension": ".py",
   "mimetype": "text/x-python",
   "name": "python",
   "nbconvert_exporter": "python",
   "pygments_lexer": "ipython3",
   "version": "3.12.0"
  }
 },
 "nbformat": 4,
 "nbformat_minor": 2
}
