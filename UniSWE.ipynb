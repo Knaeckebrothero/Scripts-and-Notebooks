{
  "nbformat": 4,
  "nbformat_minor": 0,
  "metadata": {
    "colab": {
      "provenance": []
    },
    "kernelspec": {
      "name": "python3",
      "display_name": "Python 3"
    },
    "language_info": {
      "name": "python"
    }
  },
  "cells": [
    {
      "cell_type": "code",
      "source": [
        "#Fakultät\n",
        "def fakultaet(n):\n",
        "  f=1\n",
        "\n",
        "  while n-1 > 0:\n",
        "    f = f * (n-1)\n",
        "    n = n-1\n",
        "\n",
        "  print(f)\n",
        "fakultaet(int(input(\"Bitte geben eine Zahl an: \")))"
      ],
      "metadata": {
        "id": "f3N40DKaQrPt",
        "colab": {
          "base_uri": "https://localhost:8080/"
        },
        "outputId": "d383a45a-ee8c-4ef6-e711-19320cae190f"
      },
      "execution_count": null,
      "outputs": [
        {
          "output_type": "stream",
          "name": "stdout",
          "text": [
            "Bitte geben eine Zahl an: 5\n",
            "24\n"
          ]
        }
      ]
    },
    {
      "cell_type": "code",
      "source": [
        "#BMI\n",
        "g = int(input(\"Bitte geben dein gewicht an: \"))\n",
        "print(\"Dein gewichti ist: \", g)\n",
        "print (\"Bitte gebe nun deine Körpergröße an\")\n",
        "k = int(float(input(\"Bitte geben dein gewicht an: \"))*100)\n",
        "\n",
        "b = k / (g**2)\n",
        "\n",
        "print(\"Du bist also\", g, \" kilo schwer und \", k, \" cm groß\", \"das bedeuetet dein BMI liegt bei: \", b)"
      ],
      "metadata": {
        "colab": {
          "base_uri": "https://localhost:8080/"
        },
        "id": "hdSftjXVTkTS",
        "outputId": "f007c102-78bc-4918-dd0c-d49537c8e92a"
      },
      "execution_count": null,
      "outputs": [
        {
          "output_type": "stream",
          "name": "stdout",
          "text": [
            "Bitte geben dein gewicht an: 90\n",
            "Dein gewichti ist:  90\n",
            "Bitte gebe nun deine Körpergröße an\n",
            "Bitte geben dein gewicht an: 1.87\n",
            "Du bist also 90  kilo schwer und  187  cm groß das bedeuetet dein BMI liegt bei:  0.02308641975308642\n"
          ]
        }
      ]
    },
    {
      "cell_type": "code",
      "source": [
        "#Work with file\n",
        "file = open(\"/content/drive/MyDrive/UNI/SWE/Niklas Colab files/test.txt\")\n",
        "\n",
        "print(file)\n",
        "print(file.read)\n",
        "print(file.readline())"
      ],
      "metadata": {
        "colab": {
          "base_uri": "https://localhost:8080/"
        },
        "id": "K6SND6AGaP0F",
        "outputId": "d30bdf00-7af3-4c75-c72b-0717dc0a3bd9"
      },
      "execution_count": null,
      "outputs": [
        {
          "output_type": "stream",
          "name": "stdout",
          "text": [
            "<_io.TextIOWrapper name='/content/drive/MyDrive/UNI/SWE/Niklas Colab files/test.txt' mode='r' encoding='UTF-8'>\n",
            "<built-in method read of _io.TextIOWrapper object at 0x7fd2578032f0>\n",
            "\n"
          ]
        }
      ]
    },
    {
      "cell_type": "code",
      "source": [
        "### Kuh\n",
        "class Cow:\n",
        "  def __init__(self, name, weight, height, race, sex):\n",
        "    self.name = name\n",
        "    self.weight = weight\n",
        "    self.height = height\n",
        "    self.race = race\n",
        "    self.sex = sex\n",
        "\n",
        "  def makeNoise():\n",
        "    print(\"Muh\")\n",
        "  \n",
        "  def hasHorns(self):\n",
        "    if self.sex == \"male\" or self.race != \"Hörnerkuh\":\n",
        "      print(\"Ist gehörnt\")\n",
        "    else:\n",
        "      print(\"Besitzt keine Hörner\")\n",
        "\n",
        "#### Schaaf\n",
        "class Sheep:\n",
        "  def __init__(self, name, weight, height, race, sex):\n",
        "    self.name = name\n",
        "    self.weight = weight\n",
        "    self.height = height\n",
        "    self.race = race\n",
        "    self.sex = sex\n",
        "\n",
        "  def makeNoise():\n",
        "    print(\"Mäh\")\n",
        "  \n",
        "  def hasHorns(self):\n",
        "    if self.sex == \"male\" or self.race != \"Bergschaaf\":\n",
        "      return True\n",
        "    else:\n",
        "      return False\n",
        "\n",
        "  def willFlee(self, eWeight, eHeight):\n",
        "    if hasHorns(self) == True and eWeight < :\n",
        "      print(\"Ist gehörnt\")\n",
        "    else:\n",
        "      print(\"Besitzt keine Hörner\")  "
      ],
      "metadata": {
        "id": "xv8Mzu0-iaVa"
      },
      "execution_count": null,
      "outputs": []
    },
    {
      "cell_type": "code",
      "source": [
        "class Animal:\n",
        "  def __init__(self, name, noise):\n",
        "    self.name = name\n",
        "    self.noise = noise\n",
        "  \n",
        "  def makeNoise(self):\n",
        "    print(self.noise)"
      ],
      "metadata": {
        "id": "X073Szt7qCcS"
      },
      "execution_count": null,
      "outputs": []
    },
    {
      "cell_type": "code",
      "source": [
        "class Sheep(Animal):\n",
        "  def __init__(self, name, noise):\n",
        "    self.name = name\n",
        "    self.noise = noise\n",
        "    "
      ],
      "metadata": {
        "id": "d2fwOXbZqXLG"
      },
      "execution_count": null,
      "outputs": []
    }
  ]
}