{
 "cells": [
  {
   "cell_type": "code",
   "execution_count": 1,
   "metadata": {
    "collapsed": true,
    "ExecuteTime": {
     "end_time": "2023-07-06T09:25:23.942496100Z",
     "start_time": "2023-07-06T09:25:23.932594800Z"
    }
   },
   "outputs": [],
   "source": [
    "import sqlite3\n",
    "\n",
    "# Setup db & cursor\n",
    "db = sqlite3.connect(\":memory:\")\n",
    "c = db.cursor()"
   ]
  },
  {
   "cell_type": "code",
   "execution_count": 5,
   "outputs": [],
   "source": [
    "# Insert some data\n",
    "c.executescript(\"\"\"\n",
    "CREATE table \"INVENTORY\" (\n",
    "\"ITEM\" VARCHAR2(10),\n",
    "\"COLOR\" VARCHAR2(5),\n",
    "\"QUANTITY\" NUMERIC(3)\n",
    ");\n",
    "insert into INVENTORY values ('Table','Blue',124);\n",
    "insert into INVENTORY values ('Table','Red',223);\n",
    "insert into INVENTORY values ('Chair','Blue',101);\n",
    "insert into INVENTORY values ('Chair','Red',210);\n",
    "\"\"\")\n",
    "db.commit()"
   ],
   "metadata": {
    "collapsed": false,
    "ExecuteTime": {
     "end_time": "2023-07-06T09:29:44.507694900Z",
     "start_time": "2023-07-06T09:29:44.504677500Z"
    }
   }
  },
  {
   "cell_type": "code",
   "execution_count": null,
   "outputs": [],
   "source": [],
   "metadata": {
    "collapsed": false
   }
  }
 ],
 "metadata": {
  "kernelspec": {
   "display_name": "Python 3",
   "language": "python",
   "name": "python3"
  },
  "language_info": {
   "codemirror_mode": {
    "name": "ipython",
    "version": 2
   },
   "file_extension": ".py",
   "mimetype": "text/x-python",
   "name": "python",
   "nbconvert_exporter": "python",
   "pygments_lexer": "ipython2",
   "version": "2.7.6"
  }
 },
 "nbformat": 4,
 "nbformat_minor": 0
}
