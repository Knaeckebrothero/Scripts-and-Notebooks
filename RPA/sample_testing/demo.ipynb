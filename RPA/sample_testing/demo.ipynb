{
 "cells": [
  {
   "cell_type": "code",
   "id": "initial_id",
   "metadata": {
    "collapsed": true,
    "ExecuteTime": {
     "end_time": "2025-06-14T09:05:35.480334Z",
     "start_time": "2025-06-14T09:05:35.476441Z"
    }
   },
   "source": [
    "import pandas as pd\n",
    "\n",
    "\n",
    "# Read the CSV file (assuming semicolon separator and European number format)\n",
    "df = pd.read_csv('example_data.csv',\n",
    "                 sep=';',\n",
    "                 decimal=',',\n",
    "                 parse_dates=['date'],\n",
    "                 dayfirst=True)"
   ],
   "outputs": [],
   "execution_count": 7
  },
  {
   "metadata": {
    "ExecuteTime": {
     "end_time": "2025-06-14T09:05:37.136127Z",
     "start_time": "2025-06-14T09:05:37.130691Z"
    }
   },
   "cell_type": "code",
   "source": [
    "# Basic analysis examples\n",
    "print(\"=== Data Overview ===\")\n",
    "print(f\"Total records: {len(df)}\")\n",
    "print(f\"Date range: {df['date'].min()} to {df['date'].max()}\")\n",
    "print(f\"Total debit amount: €{df[df['key figure'].str.endswith('DT')]['value'].sum():,.2f}\")\n",
    "print(f\"Total credit amount: €{abs(df[df['key figure'].str.endswith('CT')]['value'].sum()):,.2f}\")"
   ],
   "id": "765d8efc0fe325a2",
   "outputs": [
    {
     "name": "stdout",
     "output_type": "stream",
     "text": [
      "=== Data Overview ===\n",
      "Total records: 20\n",
      "Date range: 2024-05-31 00:00:00 to 2024-12-31 00:00:00\n",
      "Total debit amount: €5,709,991.24\n",
      "Total credit amount: €2,028,546.00\n"
     ]
    }
   ],
   "execution_count": 8
  },
  {
   "metadata": {
    "ExecuteTime": {
     "end_time": "2025-06-14T09:05:04.228371Z",
     "start_time": "2025-06-14T09:05:04.222934Z"
    }
   },
   "cell_type": "code",
   "source": [
    "# Sample testing - randomly select 10% of transactions for review\n",
    "sample_size = max(1, int(len(df) * 0.1))\n",
    "audit_sample = df.sample(n=sample_size, random_state=42)\n",
    "\n",
    "print(f\"\\n=== Audit Sample ({sample_size} transactions) ===\")\n",
    "print(audit_sample[['id', 'key figure', 'value']].to_string(index=False))"
   ],
   "id": "e305127a1216323f",
   "outputs": [
    {
     "name": "stdout",
     "output_type": "stream",
     "text": [
      "\n",
      "=== Audit Sample (2 transactions) ===\n",
      "    id        key figure      value\n",
      "436436 100.515.100.00.DT  600000.00\n",
      "436453 800.770.300.00.CT -283945.25\n"
     ]
    }
   ],
   "execution_count": 5
  },
  {
   "metadata": {
    "ExecuteTime": {
     "end_time": "2025-06-14T09:05:05.989103Z",
     "start_time": "2025-06-14T09:05:05.982243Z"
    }
   },
   "cell_type": "code",
   "source": [
    "# Check for potential issues\n",
    "print(\"\\n=== Potential Issues ===\")\n",
    "\n",
    "# Check for unbalanced entries\n",
    "account_prefixes = df['key figure'].str[:15]\n",
    "for prefix in account_prefixes.unique():\n",
    "    account_data = df[df['key figure'].str.startswith(prefix)]\n",
    "    balance = account_data['value'].sum()\n",
    "    if abs(balance) > 0.01:  # Allow for small rounding differences\n",
    "        print(f\"Unbalanced account {prefix}: €{balance:,.2f}\")"
   ],
   "id": "904f047b769192ce",
   "outputs": [
    {
     "name": "stdout",
     "output_type": "stream",
     "text": [
      "\n",
      "=== Potential Issues ===\n",
      "Unbalanced account 100.515.100.00.: €150,000.00\n",
      "Unbalanced account 300.225.075.00.: €44,999.99\n",
      "Unbalanced account 100.515.200.00.: €1,250,000.00\n",
      "Unbalanced account 500.445.150.00.: €162,500.00\n",
      "Unbalanced account 100.515.300.00.: €950,000.00\n",
      "Unbalanced account 700.665.250.00.: €90,000.00\n",
      "Unbalanced account 800.770.300.00.: €283,945.25\n",
      "Unbalanced account 900.885.350.00.: €750,000.00\n"
     ]
    }
   ],
   "execution_count": 6
  }
 ],
 "metadata": {
  "kernelspec": {
   "display_name": "Python 3",
   "language": "python",
   "name": "python3"
  },
  "language_info": {
   "codemirror_mode": {
    "name": "ipython",
    "version": 2
   },
   "file_extension": ".py",
   "mimetype": "text/x-python",
   "name": "python",
   "nbconvert_exporter": "python",
   "pygments_lexer": "ipython2",
   "version": "2.7.6"
  }
 },
 "nbformat": 4,
 "nbformat_minor": 5
}
