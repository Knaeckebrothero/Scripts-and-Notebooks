{
 "cells": [
  {
   "cell_type": "code",
   "metadata": {},
   "source": [
    "import dotenv\n",
    "import os\n",
    "import shutil\n",
    "import PyPDF2\n",
    "import pdfplumber\n",
    "import string\n",
    "\n",
    "dotenv.load_dotenv(dotenv.find_dotenv())\n",
    "\n",
    "base_path = os.getenv('BASE_PATH').replace(\"\\\\\", \"/\")\n",
    "\n",
    "source_path = base_path + \"/RPA/storage_volume/downloads/testPDF.pdf\"\n",
    "destination_path = base_path + \"/RPA/storage_volume/documents/testPDF.pdf\""
   ],
   "outputs": [],
   "execution_count": null
  },
  {
   "cell_type": "code",
   "metadata": {},
   "source": [
    "# Move the file\n",
    "if os.path.exists(source_path):\n",
    "    shutil.move(source_path, destination_path)\n",
    "elif os.path.exists(destination_path):\n",
    "    shutil.move(destination_path, source_path)\n",
    "    shutil.move(source_path, destination_path)\n",
    "else:\n",
    "    print(\"File not found\")"
   ],
   "outputs": [],
   "execution_count": null
  },
  {
   "cell_type": "code",
   "metadata": {},
   "source": [
    "# Function to sanitize filenames\n",
    "def sanitize_filename(filename):\n",
    "    valid_chars = \"-_.() %s%s\" % (string.ascii_letters, string.digits)\n",
    "    return ''.join(c for c in filename if c in valid_chars)"
   ],
   "outputs": [],
   "execution_count": null
  },
  {
   "cell_type": "code",
   "metadata": {},
   "source": [
    "# Open the source PDF\n",
    "with pdfplumber.open(destination_path) as pdf:\n",
    "    for i, page in enumerate(pdf.pages):\n",
    "        # Extract text from the first page\n",
    "        text = page.extract_text()\n",
    "        # Use the first line of text as the filename, or default to a numbered filename if extraction fails\n",
    "        first_line = text.split('\\n')[0] if text else f\"Page_{i+1}\"\n",
    "        # Sanitize the filename to avoid invalid characters\n",
    "        filename = base_path + '/RPA/storage_volume/documents/' + sanitize_filename(first_line[:30])  # Limit filename length for simplicity\n",
    "\n",
    "        # Now split the page using PyPDF2\n",
    "        pdf_reader = PyPDF2.PdfReader(destination_path)\n",
    "        pdf_writer = PyPDF2.PdfWriter()\n",
    "\n",
    "        # Add the current page to the writer object\n",
    "        pdf_writer.add_page(pdf_reader.pages[i])\n",
    "\n",
    "        # Write out the new PDF\n",
    "        with open(f'{filename}.pdf', 'wb') as output_pdf:\n",
    "            pdf_writer.write(output_pdf)"
   ],
   "outputs": [],
   "execution_count": null
  }
 ],
 "metadata": {
  "kernelspec": {
   "display_name": "Python 3",
   "language": "python",
   "name": "python3"
  },
  "language_info": {
   "codemirror_mode": {
    "name": "ipython",
    "version": 3
   },
   "file_extension": ".py",
   "mimetype": "text/x-python",
   "name": "python",
   "nbconvert_exporter": "python",
   "pygments_lexer": "ipython3",
   "version": "3.12.0"
  }
 },
 "nbformat": 4,
 "nbformat_minor": 2
}
