{
 "cells": [
  {
   "cell_type": "code",
   "outputs": [],
   "source": [
    "# Imports\n",
    "import imaplib\n",
    "import dotenv\n",
    "import os\n",
    "import email\n",
    "from email.header import decode_header"
   ],
   "metadata": {
    "collapsed": false,
    "ExecuteTime": {
     "end_time": "2024-03-26T17:04:55.691628Z",
     "start_time": "2024-03-26T17:04:55.688620Z"
    }
   },
   "id": "3bbb5517510eea43",
   "execution_count": 18
  },
  {
   "cell_type": "code",
   "execution_count": 19,
   "id": "initial_id",
   "metadata": {
    "collapsed": true,
    "ExecuteTime": {
     "end_time": "2024-03-26T17:04:56.737042Z",
     "start_time": "2024-03-26T17:04:55.692730Z"
    }
   },
   "outputs": [
    {
     "data": {
      "text/plain": "('OK', [b'12182'])"
     },
     "execution_count": 19,
     "metadata": {},
     "output_type": "execute_result"
    }
   ],
   "source": [
    "# Load environment variables\n",
    "dotenv.load_dotenv(dotenv.find_dotenv())\n",
    "# server_address = os.getenv(\"IMAP_SERVER_ADDRESS\")\n",
    "imap_server = os.getenv('IMAP_SERVER_ADDRESS')\n",
    "imap_port = os.getenv('IMAP_SERVER_PORT')\n",
    "email_address = os.getenv('EMAIL_ADDRESS')\n",
    "email_password = os.getenv('EMAIL_PASSWORD')\n",
    "\n",
    "# Connect to the IMAP server\n",
    "mail = imaplib.IMAP4_SSL(imap_server, imap_port)\n",
    "mail.login(email_address, email_password)\n",
    "mail.select('inbox')"
   ]
  },
  {
   "cell_type": "code",
   "outputs": [],
   "source": [
    "# Search for unseen emails\n",
    "status, messages = mail.search(None, '(UNSEEN)') \n",
    "messages = messages[0].split()"
   ],
   "metadata": {
    "collapsed": false,
    "ExecuteTime": {
     "end_time": "2024-03-26T17:04:56.875083Z",
     "start_time": "2024-03-26T17:04:56.738046Z"
    }
   },
   "id": "f541bbc6a259dccf",
   "execution_count": 20
  },
  {
   "cell_type": "code",
   "outputs": [
    {
     "name": "stdout",
     "output_type": "stream",
     "text": [
      "Subject: Test\n",
      "Body: Test\n",
      "Body: <div style=\"font-family: Arial, sans-serif; font-size: 14px; color: rgb(0, 0, 0); background-color: rgb(255, 255, 255);\">Test</div>\n"
     ]
    }
   ],
   "source": [
    "for mail_id in messages:\n",
    "    # Fetch the email\n",
    "    status, data = mail.fetch(mail_id, '(RFC822)')\n",
    "    raw_email = data[0][1]\n",
    "    email_message = email.message_from_bytes(raw_email)\n",
    "\n",
    "    # Check the subject\n",
    "    subject = decode_header(email_message['Subject'])[0][0]\n",
    "    if isinstance(subject, bytes):\n",
    "        subject = subject.decode()\n",
    "    print(\"Subject:\", subject)\n",
    "\n",
    "    # Process email content and attachments\n",
    "    for part in email_message.walk():\n",
    "        # If it's a plain text or HTML part\n",
    "        if part.get_content_type() == \"text/plain\" or part.get_content_type() == \"text/html\":\n",
    "            body = part.get_payload(decode=True).decode()\n",
    "            print(\"Body:\", body)\n",
    "\n",
    "        # If it's an attachment\n",
    "        if part.get_content_maintype() == 'multipart' or part.get('Content-Disposition') is not None:\n",
    "            filename = part.get_filename()\n",
    "            if filename:\n",
    "                if 'pdf' in filename.lower():\n",
    "                    filepath = f'/path/to/save/{filename}'\n",
    "                    with open(filepath, 'wb') as f:\n",
    "                        f.write(part.get_payload(decode=True))\n",
    "                    print(f'Downloaded {filename} to {filepath}')"
   ],
   "metadata": {
    "collapsed": false,
    "ExecuteTime": {
     "end_time": "2024-03-26T17:04:57.220684Z",
     "start_time": "2024-03-26T17:04:56.877094Z"
    }
   },
   "id": "93c08b173dc99ffc",
   "execution_count": 21
  },
  {
   "cell_type": "code",
   "outputs": [
    {
     "data": {
      "text/plain": "('BYE', [b'LOGOUT Requested'])"
     },
     "execution_count": 22,
     "metadata": {},
     "output_type": "execute_result"
    }
   ],
   "source": [
    "# Close the connection\n",
    "mail.close()\n",
    "mail.logout()"
   ],
   "metadata": {
    "collapsed": false,
    "ExecuteTime": {
     "end_time": "2024-03-26T17:04:57.489023Z",
     "start_time": "2024-03-26T17:04:57.223697Z"
    }
   },
   "id": "c2fde39d925ae2bc",
   "execution_count": 22
  }
 ],
 "metadata": {
  "kernelspec": {
   "display_name": "Python 3",
   "language": "python",
   "name": "python3"
  },
  "language_info": {
   "codemirror_mode": {
    "name": "ipython",
    "version": 2
   },
   "file_extension": ".py",
   "mimetype": "text/x-python",
   "name": "python",
   "nbconvert_exporter": "python",
   "pygments_lexer": "ipython2",
   "version": "2.7.6"
  }
 },
 "nbformat": 4,
 "nbformat_minor": 5
}
