{
 "cells": [
  {
   "cell_type": "code",
   "id": "initial_id",
   "metadata": {
    "collapsed": true
   },
   "source": [
    "# Imports\n",
    "import dotenv\n",
    "import os\n",
    "\n",
    "import smtplib\n",
    "from email.mime.multipart import MIMEMultipart\n",
    "from email.mime.text import MIMEText"
   ],
   "outputs": [],
   "execution_count": null
  },
  {
   "cell_type": "code",
   "id": "e6df90eee22b1786",
   "metadata": {
    "collapsed": false
   },
   "source": [
    "# Load environment variables\n",
    "dotenv.load_dotenv(dotenv.find_dotenv())\n",
    "email_address = os.getenv('EMAIL_ADDRESS')\n",
    "email_password = os.getenv('EMAIL_PASSWORD')"
   ],
   "outputs": [],
   "execution_count": null
  },
  {
   "cell_type": "code",
   "id": "c5f1a559f17d17a8",
   "metadata": {
    "collapsed": false
   },
   "source": [
    "# Create MIME message\n",
    "msg = MIMEMultipart()\n",
    "msg['From'] = email_address\n",
    "msg['To'] = email_address\n",
    "msg['Subject'] = 'Test'\n",
    "\n",
    "# Email body\n",
    "body = \"Test\"\n",
    "msg.attach(MIMEText(body, 'plain'))\n",
    "\n",
    "# Connect to Gmail's SMTP server\n",
    "try:\n",
    "    server = smtplib.SMTP_SSL('smtp.gmail.com', 465)\n",
    "    server.ehlo()\n",
    "    server.login(email_address, email_password)\n",
    "    \n",
    "    # Send the email\n",
    "    text = msg.as_string()\n",
    "    server.sendmail(email_address, msg['To'], text)\n",
    "    \n",
    "    # Close the server connection\n",
    "    server.close()\n",
    "\n",
    "    print(\"Email sent successfully!\")\n",
    "except Exception as e:\n",
    "    print(f\"Failed to send email: {e}\")"
   ],
   "outputs": [],
   "execution_count": null
  }
 ],
 "metadata": {
  "kernelspec": {
   "display_name": "Python 3",
   "language": "python",
   "name": "python3"
  },
  "language_info": {
   "codemirror_mode": {
    "name": "ipython",
    "version": 2
   },
   "file_extension": ".py",
   "mimetype": "text/x-python",
   "name": "python",
   "nbconvert_exporter": "python",
   "pygments_lexer": "ipython2",
   "version": "2.7.6"
  }
 },
 "nbformat": 4,
 "nbformat_minor": 5
}
