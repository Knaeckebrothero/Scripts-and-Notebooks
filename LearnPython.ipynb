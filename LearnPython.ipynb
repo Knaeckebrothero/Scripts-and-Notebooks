{
  "nbformat": 4,
  "nbformat_minor": 0,
  "metadata": {
    "colab": {
      "provenance": []
    },
    "kernelspec": {
      "name": "python3",
      "display_name": "Python 3"
    },
    "language_info": {
      "name": "python"
    }
  },
  "cells": [
    {
      "cell_type": "code",
      "execution_count": null,
      "metadata": {
        "id": "dnQUrMXOCP43"
      },
      "outputs": [],
      "source": [
        "#Hello World Programm\n",
        "print(\"Hello World\")"
      ]
    },
    {
      "cell_type": "code",
      "source": [
        "#Taschenrechner\n",
        "print (\"Es werden Folgende Operationen Unterstützt: + - * /\")\n",
        "operator = input(\"Welche Operation möchten sie ausführen?\")\n",
        "\n",
        "#Works only on python 3.10 because match does not exist in lower veriosn\n",
        "#Would have to change whole notebook to change veriosn code should still run\n",
        "match operator:\n",
        "  case \"+\":\n",
        "    print(\"Bitte gebe nun die zu addierenden Zahlen ein.\")\n",
        "    a = input(\"Erste Zahl\")\n",
        "    b = input(\"Zweite Zahl\")\n",
        "    ergebniss = a + b\n",
        "  case \"-\":\n",
        "    print(\"Bitte gebe nun die zu subtrahierenden Zahlen ein.\")\n",
        "    a = input(\"Erste Zahl\")\n",
        "    b = input(\"Zweite Zahl\")\n",
        "    ergebniss = a - b\n",
        "  case \"*\":\n",
        "    print(\"Bitte gebe nun die zu mulitplizierenden Zahlen ein.\")\n",
        "    a = input(\"Erste Zahl\")\n",
        "    b = input(\"Zweite Zahl\")\n",
        "    ergebniss = a * b\n",
        "  case \"/\":\n",
        "    print(\"Bitte gebe nun die zu dividierenden Zahlen ein.\")\n",
        "    a = input(\"Erste Zahl\")\n",
        "    b = input(\"Zweite Zahl\")\n",
        "    ergebniss = a / b\n",
        "  case _:\n",
        "    print(\"Eingabe wird leider nicht unterstützt...\")\n",
        "\n",
        "print(\"Ihr ergebniss lautet: \"+ergebniss)"
      ],
      "metadata": {
        "id": "TZLEZP10CoAk"
      },
      "execution_count": null,
      "outputs": []
    },
    {
      "cell_type": "code",
      "source": [
        "#TerminatorNavigator\n",
        "from ast import While\n",
        "\n",
        "def laufen():\n",
        "    print(\"Linken Fuß anheben\")\n",
        "    print(\"Linken Fuß vor\")\n",
        "    print(\"Linken Fuß absetzen\")\n",
        "    print(\"Rechten Fuß anheben\")\n",
        "    print(\"Rechten Fuß vor\")\n",
        "    print(\"Rechten Fuß absetzen\")\n",
        "\n",
        "laengeA = input(\"Bitte gebe die seitenlänge des Tisches an welcher der Terminator startet an: \")\n",
        "laengeB = input(\"Bitte gebe die seitenlänge der darauffolgenden seite an: \")\n",
        "\n",
        "print(\"Der Tisch ist hat also folgende außmaße \"+laengeA+\"m mal \"+laengeB+\"m = \"+str(int(laengeA)*int(laengeB)))\n",
        "\n",
        "i = 0\n",
        "\n",
        "for\n",
        "\n",
        "While i < laengeA"
      ],
      "metadata": {
        "id": "dNODdS_dICkp"
      },
      "execution_count": null,
      "outputs": []
    },
    {
      "cell_type": "code",
      "execution_count": null,
      "metadata": {
        "id": "zg1Eg7sFdOwd"
      },
      "outputs": [],
      "source": [
        "###Import`s\n",
        "#pip3 install request\n",
        "#pip3 install beautifulsoup4\n",
        "from bs4 import BeautifulSoup\n",
        "import smtplib\n",
        "from email.mime.multipart import MIMEMultipart\n",
        "from email.mime.text import MIMEText\n",
        "import datetime"
      ]
    },
    {
      "cell_type": "code",
      "source": [
        "#Initialise Stuff\n",
        "now = datetime.datetime.now()"
      ],
      "metadata": {
        "id": "QOza1HK7ffzv"
      },
      "execution_count": null,
      "outputs": []
    }
  ]
}