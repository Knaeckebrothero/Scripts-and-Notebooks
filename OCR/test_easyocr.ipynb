{
 "cells": [
  {
   "cell_type": "code",
   "id": "initial_id",
   "metadata": {
    "collapsed": true
   },
   "source": [
    "# \n",
    "import easyocr\n",
    "import os\n",
    "from dotenv import load_dotenv\n",
    "from pdf2image import convert_from_path\n",
    "\n",
    "load_dotenv()\n",
    "pdf_path = os.getenv('TEST_PDF_PATH')\n",
    "\n",
    "reader = easyocr.Reader(['en']) \n",
    "\n",
    "# Convert your PDF to images\n",
    "images = convert_from_path('20231223.pdf')\n",
    "\n",
    "for image in images:\n",
    "    result = reader.readtext(image)\n",
    "    print(result)"
   ],
   "outputs": [],
   "execution_count": null
  },
  {
   "cell_type": "code",
   "source": [
    "import os\n",
    "from dotenv import load_dotenv\n",
    "from pdf2image import convert_from_path\n",
    "import keras_ocr\n",
    "\n",
    "load_dotenv()\n",
    "pdf_path = os.getenv('TEST_PDF_PATH')\n",
    "\n",
    "# Setup Keras OCR\n",
    "pipeline = keras_ocr.pipeline.Pipeline()\n",
    "\n",
    "# Convert your PDF to images\n",
    "images = convert_from_path(pdf_path)\n",
    "\n",
    "for image in images:\n",
    "    # Each image is a PIL image and can be directly passed to the pipeline\n",
    "    predictions = pipeline.recognize([image])[0]  # Only processing one image at a time\n",
    "\n",
    "    # Process and print results\n",
    "    for text, box in predictions:\n",
    "        print(f'Detected text: {text}')"
   ],
   "metadata": {
    "collapsed": false
   },
   "id": "e9cbad92ef063797",
   "outputs": [],
   "execution_count": null
  },
  {
   "cell_type": "code",
   "source": [
    "import os\n",
    "from dotenv import load_dotenv\n",
    "from pdf2image import convert_from_path\n",
    "import keras_ocr\n",
    "\n",
    "load_dotenv()\n",
    "pdf_path = os.getenv('TEST_PDF_PATH')\n",
    "\n",
    "# Setup Keras OCR\n",
    "pipeline = keras_ocr.pipeline.Pipeline()\n",
    "\n",
    "# Convert your PDF to images\n",
    "predictions = pipeline.recognize([pdf_path])\n",
    "\n",
    "# Process and print results\n",
    "for text in predictions:\n",
    "    print(f'Detected text: {text}')"
   ],
   "metadata": {
    "collapsed": false
   },
   "id": "d72568917ed9aa43",
   "outputs": [],
   "execution_count": null
  },
  {
   "cell_type": "code",
   "source": [
    "import fitz\n",
    "\n",
    "pdf_document = fitz.open('20231223.pdf')\n",
    "\n",
    "# Iterate through each page\n",
    "for page_number in range(len(pdf_document)):\n",
    "   \n",
    "    # Get the page\n",
    "    page = pdf_document.loadPage(page_number)\n",
    "\n",
    "    # Render the page to an image (pixmap)\n",
    "    pixmap = page.get_pixmap()\n",
    "\n",
    "    # Save the image\n",
    "    pixmap.save(f\"page_{page_number}.png\")"
   ],
   "metadata": {
    "collapsed": false
   },
   "id": "558226011a8c4f62",
   "outputs": [],
   "execution_count": null
  }
 ],
 "metadata": {
  "kernelspec": {
   "display_name": "Python 3",
   "language": "python",
   "name": "python3"
  },
  "language_info": {
   "codemirror_mode": {
    "name": "ipython",
    "version": 2
   },
   "file_extension": ".py",
   "mimetype": "text/x-python",
   "name": "python",
   "nbconvert_exporter": "python",
   "pygments_lexer": "ipython2",
   "version": "2.7.6"
  }
 },
 "nbformat": 4,
 "nbformat_minor": 5
}
