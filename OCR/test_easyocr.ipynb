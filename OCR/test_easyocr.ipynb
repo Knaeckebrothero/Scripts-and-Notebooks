{
 "cells": [
  {
   "cell_type": "code",
   "execution_count": 7,
   "id": "initial_id",
   "metadata": {
    "collapsed": true,
    "ExecuteTime": {
     "end_time": "2024-01-06T15:34:13.376361400Z",
     "start_time": "2024-01-06T15:34:12.062055900Z"
    }
   },
   "outputs": [
    {
     "ename": "PDFInfoNotInstalledError",
     "evalue": "Unable to get page count. Is poppler installed and in PATH?",
     "output_type": "error",
     "traceback": [
      "\u001B[1;31m---------------------------------------------------------------------------\u001B[0m",
      "\u001B[1;31mFileNotFoundError\u001B[0m                         Traceback (most recent call last)",
      "File \u001B[1;32m~\\AppData\\Local\\Programs\\Python\\Python311\\Lib\\site-packages\\pdf2image\\pdf2image.py:568\u001B[0m, in \u001B[0;36mpdfinfo_from_path\u001B[1;34m(pdf_path, userpw, ownerpw, poppler_path, rawdates, timeout)\u001B[0m\n\u001B[0;32m    567\u001B[0m     env[\u001B[38;5;124m\"\u001B[39m\u001B[38;5;124mLD_LIBRARY_PATH\u001B[39m\u001B[38;5;124m\"\u001B[39m] \u001B[38;5;241m=\u001B[39m poppler_path \u001B[38;5;241m+\u001B[39m \u001B[38;5;124m\"\u001B[39m\u001B[38;5;124m:\u001B[39m\u001B[38;5;124m\"\u001B[39m \u001B[38;5;241m+\u001B[39m env\u001B[38;5;241m.\u001B[39mget(\u001B[38;5;124m\"\u001B[39m\u001B[38;5;124mLD_LIBRARY_PATH\u001B[39m\u001B[38;5;124m\"\u001B[39m, \u001B[38;5;124m\"\u001B[39m\u001B[38;5;124m\"\u001B[39m)\n\u001B[1;32m--> 568\u001B[0m proc \u001B[38;5;241m=\u001B[39m \u001B[43mPopen\u001B[49m\u001B[43m(\u001B[49m\u001B[43mcommand\u001B[49m\u001B[43m,\u001B[49m\u001B[43m \u001B[49m\u001B[43menv\u001B[49m\u001B[38;5;241;43m=\u001B[39;49m\u001B[43menv\u001B[49m\u001B[43m,\u001B[49m\u001B[43m \u001B[49m\u001B[43mstdout\u001B[49m\u001B[38;5;241;43m=\u001B[39;49m\u001B[43mPIPE\u001B[49m\u001B[43m,\u001B[49m\u001B[43m \u001B[49m\u001B[43mstderr\u001B[49m\u001B[38;5;241;43m=\u001B[39;49m\u001B[43mPIPE\u001B[49m\u001B[43m)\u001B[49m\n\u001B[0;32m    570\u001B[0m \u001B[38;5;28;01mtry\u001B[39;00m:\n",
      "File \u001B[1;32m~\\AppData\\Local\\Programs\\Python\\Python311\\Lib\\subprocess.py:1026\u001B[0m, in \u001B[0;36mPopen.__init__\u001B[1;34m(self, args, bufsize, executable, stdin, stdout, stderr, preexec_fn, close_fds, shell, cwd, env, universal_newlines, startupinfo, creationflags, restore_signals, start_new_session, pass_fds, user, group, extra_groups, encoding, errors, text, umask, pipesize, process_group)\u001B[0m\n\u001B[0;32m   1023\u001B[0m             \u001B[38;5;28mself\u001B[39m\u001B[38;5;241m.\u001B[39mstderr \u001B[38;5;241m=\u001B[39m io\u001B[38;5;241m.\u001B[39mTextIOWrapper(\u001B[38;5;28mself\u001B[39m\u001B[38;5;241m.\u001B[39mstderr,\n\u001B[0;32m   1024\u001B[0m                     encoding\u001B[38;5;241m=\u001B[39mencoding, errors\u001B[38;5;241m=\u001B[39merrors)\n\u001B[1;32m-> 1026\u001B[0m     \u001B[38;5;28;43mself\u001B[39;49m\u001B[38;5;241;43m.\u001B[39;49m\u001B[43m_execute_child\u001B[49m\u001B[43m(\u001B[49m\u001B[43margs\u001B[49m\u001B[43m,\u001B[49m\u001B[43m \u001B[49m\u001B[43mexecutable\u001B[49m\u001B[43m,\u001B[49m\u001B[43m \u001B[49m\u001B[43mpreexec_fn\u001B[49m\u001B[43m,\u001B[49m\u001B[43m \u001B[49m\u001B[43mclose_fds\u001B[49m\u001B[43m,\u001B[49m\n\u001B[0;32m   1027\u001B[0m \u001B[43m                        \u001B[49m\u001B[43mpass_fds\u001B[49m\u001B[43m,\u001B[49m\u001B[43m \u001B[49m\u001B[43mcwd\u001B[49m\u001B[43m,\u001B[49m\u001B[43m \u001B[49m\u001B[43menv\u001B[49m\u001B[43m,\u001B[49m\n\u001B[0;32m   1028\u001B[0m \u001B[43m                        \u001B[49m\u001B[43mstartupinfo\u001B[49m\u001B[43m,\u001B[49m\u001B[43m \u001B[49m\u001B[43mcreationflags\u001B[49m\u001B[43m,\u001B[49m\u001B[43m \u001B[49m\u001B[43mshell\u001B[49m\u001B[43m,\u001B[49m\n\u001B[0;32m   1029\u001B[0m \u001B[43m                        \u001B[49m\u001B[43mp2cread\u001B[49m\u001B[43m,\u001B[49m\u001B[43m \u001B[49m\u001B[43mp2cwrite\u001B[49m\u001B[43m,\u001B[49m\n\u001B[0;32m   1030\u001B[0m \u001B[43m                        \u001B[49m\u001B[43mc2pread\u001B[49m\u001B[43m,\u001B[49m\u001B[43m \u001B[49m\u001B[43mc2pwrite\u001B[49m\u001B[43m,\u001B[49m\n\u001B[0;32m   1031\u001B[0m \u001B[43m                        \u001B[49m\u001B[43merrread\u001B[49m\u001B[43m,\u001B[49m\u001B[43m \u001B[49m\u001B[43merrwrite\u001B[49m\u001B[43m,\u001B[49m\n\u001B[0;32m   1032\u001B[0m \u001B[43m                        \u001B[49m\u001B[43mrestore_signals\u001B[49m\u001B[43m,\u001B[49m\n\u001B[0;32m   1033\u001B[0m \u001B[43m                        \u001B[49m\u001B[43mgid\u001B[49m\u001B[43m,\u001B[49m\u001B[43m \u001B[49m\u001B[43mgids\u001B[49m\u001B[43m,\u001B[49m\u001B[43m \u001B[49m\u001B[43muid\u001B[49m\u001B[43m,\u001B[49m\u001B[43m \u001B[49m\u001B[43mumask\u001B[49m\u001B[43m,\u001B[49m\n\u001B[0;32m   1034\u001B[0m \u001B[43m                        \u001B[49m\u001B[43mstart_new_session\u001B[49m\u001B[43m,\u001B[49m\u001B[43m \u001B[49m\u001B[43mprocess_group\u001B[49m\u001B[43m)\u001B[49m\n\u001B[0;32m   1035\u001B[0m \u001B[38;5;28;01mexcept\u001B[39;00m:\n\u001B[0;32m   1036\u001B[0m     \u001B[38;5;66;03m# Cleanup if the child failed starting.\u001B[39;00m\n",
      "File \u001B[1;32m~\\AppData\\Local\\Programs\\Python\\Python311\\Lib\\subprocess.py:1538\u001B[0m, in \u001B[0;36mPopen._execute_child\u001B[1;34m(self, args, executable, preexec_fn, close_fds, pass_fds, cwd, env, startupinfo, creationflags, shell, p2cread, p2cwrite, c2pread, c2pwrite, errread, errwrite, unused_restore_signals, unused_gid, unused_gids, unused_uid, unused_umask, unused_start_new_session, unused_process_group)\u001B[0m\n\u001B[0;32m   1537\u001B[0m \u001B[38;5;28;01mtry\u001B[39;00m:\n\u001B[1;32m-> 1538\u001B[0m     hp, ht, pid, tid \u001B[38;5;241m=\u001B[39m _winapi\u001B[38;5;241m.\u001B[39mCreateProcess(executable, args,\n\u001B[0;32m   1539\u001B[0m                              \u001B[38;5;66;03m# no special security\u001B[39;00m\n\u001B[0;32m   1540\u001B[0m                              \u001B[38;5;28;01mNone\u001B[39;00m, \u001B[38;5;28;01mNone\u001B[39;00m,\n\u001B[0;32m   1541\u001B[0m                              \u001B[38;5;28mint\u001B[39m(\u001B[38;5;129;01mnot\u001B[39;00m close_fds),\n\u001B[0;32m   1542\u001B[0m                              creationflags,\n\u001B[0;32m   1543\u001B[0m                              env,\n\u001B[0;32m   1544\u001B[0m                              cwd,\n\u001B[0;32m   1545\u001B[0m                              startupinfo)\n\u001B[0;32m   1546\u001B[0m \u001B[38;5;28;01mfinally\u001B[39;00m:\n\u001B[0;32m   1547\u001B[0m     \u001B[38;5;66;03m# Child is launched. Close the parent's copy of those pipe\u001B[39;00m\n\u001B[0;32m   1548\u001B[0m     \u001B[38;5;66;03m# handles that only the child should have open.  You need\u001B[39;00m\n\u001B[1;32m   (...)\u001B[0m\n\u001B[0;32m   1551\u001B[0m     \u001B[38;5;66;03m# pipe will not close when the child process exits and the\u001B[39;00m\n\u001B[0;32m   1552\u001B[0m     \u001B[38;5;66;03m# ReadFile will hang.\u001B[39;00m\n",
      "\u001B[1;31mFileNotFoundError\u001B[0m: [WinError 2] The system cannot find the file specified",
      "\nDuring handling of the above exception, another exception occurred:\n",
      "\u001B[1;31mPDFInfoNotInstalledError\u001B[0m                  Traceback (most recent call last)",
      "Cell \u001B[1;32mIn[7], line 13\u001B[0m\n\u001B[0;32m     10\u001B[0m reader \u001B[38;5;241m=\u001B[39m easyocr\u001B[38;5;241m.\u001B[39mReader([\u001B[38;5;124m'\u001B[39m\u001B[38;5;124men\u001B[39m\u001B[38;5;124m'\u001B[39m]) \n\u001B[0;32m     12\u001B[0m \u001B[38;5;66;03m# Convert your PDF to images\u001B[39;00m\n\u001B[1;32m---> 13\u001B[0m images \u001B[38;5;241m=\u001B[39m \u001B[43mconvert_from_path\u001B[49m\u001B[43m(\u001B[49m\u001B[38;5;124;43m'\u001B[39;49m\u001B[38;5;124;43m20231223.pdf\u001B[39;49m\u001B[38;5;124;43m'\u001B[39;49m\u001B[43m)\u001B[49m\n\u001B[0;32m     15\u001B[0m \u001B[38;5;28;01mfor\u001B[39;00m image \u001B[38;5;129;01min\u001B[39;00m images:\n\u001B[0;32m     16\u001B[0m     result \u001B[38;5;241m=\u001B[39m reader\u001B[38;5;241m.\u001B[39mreadtext(image)\n",
      "File \u001B[1;32m~\\AppData\\Local\\Programs\\Python\\Python311\\Lib\\site-packages\\pdf2image\\pdf2image.py:127\u001B[0m, in \u001B[0;36mconvert_from_path\u001B[1;34m(pdf_path, dpi, output_folder, first_page, last_page, fmt, jpegopt, thread_count, userpw, ownerpw, use_cropbox, strict, transparent, single_file, output_file, poppler_path, grayscale, size, paths_only, use_pdftocairo, timeout, hide_annotations)\u001B[0m\n\u001B[0;32m    124\u001B[0m \u001B[38;5;28;01mif\u001B[39;00m \u001B[38;5;28misinstance\u001B[39m(poppler_path, PurePath):\n\u001B[0;32m    125\u001B[0m     poppler_path \u001B[38;5;241m=\u001B[39m poppler_path\u001B[38;5;241m.\u001B[39mas_posix()\n\u001B[1;32m--> 127\u001B[0m page_count \u001B[38;5;241m=\u001B[39m \u001B[43mpdfinfo_from_path\u001B[49m\u001B[43m(\u001B[49m\n\u001B[0;32m    128\u001B[0m \u001B[43m    \u001B[49m\u001B[43mpdf_path\u001B[49m\u001B[43m,\u001B[49m\u001B[43m \u001B[49m\u001B[43muserpw\u001B[49m\u001B[43m,\u001B[49m\u001B[43m \u001B[49m\u001B[43mownerpw\u001B[49m\u001B[43m,\u001B[49m\u001B[43m \u001B[49m\u001B[43mpoppler_path\u001B[49m\u001B[38;5;241;43m=\u001B[39;49m\u001B[43mpoppler_path\u001B[49m\n\u001B[0;32m    129\u001B[0m \u001B[43m\u001B[49m\u001B[43m)\u001B[49m[\u001B[38;5;124m\"\u001B[39m\u001B[38;5;124mPages\u001B[39m\u001B[38;5;124m\"\u001B[39m]\n\u001B[0;32m    131\u001B[0m \u001B[38;5;66;03m# We start by getting the output format, the buffer processing function and if we need pdftocairo\u001B[39;00m\n\u001B[0;32m    132\u001B[0m parsed_fmt, final_extension, parse_buffer_func, use_pdfcairo_format \u001B[38;5;241m=\u001B[39m _parse_format(\n\u001B[0;32m    133\u001B[0m     fmt, grayscale\n\u001B[0;32m    134\u001B[0m )\n",
      "File \u001B[1;32m~\\AppData\\Local\\Programs\\Python\\Python311\\Lib\\site-packages\\pdf2image\\pdf2image.py:594\u001B[0m, in \u001B[0;36mpdfinfo_from_path\u001B[1;34m(pdf_path, userpw, ownerpw, poppler_path, rawdates, timeout)\u001B[0m\n\u001B[0;32m    591\u001B[0m     \u001B[38;5;28;01mreturn\u001B[39;00m d\n\u001B[0;32m    593\u001B[0m \u001B[38;5;28;01mexcept\u001B[39;00m \u001B[38;5;167;01mOSError\u001B[39;00m:\n\u001B[1;32m--> 594\u001B[0m     \u001B[38;5;28;01mraise\u001B[39;00m PDFInfoNotInstalledError(\n\u001B[0;32m    595\u001B[0m         \u001B[38;5;124m\"\u001B[39m\u001B[38;5;124mUnable to get page count. Is poppler installed and in PATH?\u001B[39m\u001B[38;5;124m\"\u001B[39m\n\u001B[0;32m    596\u001B[0m     )\n\u001B[0;32m    597\u001B[0m \u001B[38;5;28;01mexcept\u001B[39;00m \u001B[38;5;167;01mValueError\u001B[39;00m:\n\u001B[0;32m    598\u001B[0m     \u001B[38;5;28;01mraise\u001B[39;00m PDFPageCountError(\n\u001B[0;32m    599\u001B[0m         \u001B[38;5;124mf\u001B[39m\u001B[38;5;124m\"\u001B[39m\u001B[38;5;124mUnable to get page count.\u001B[39m\u001B[38;5;130;01m\\n\u001B[39;00m\u001B[38;5;132;01m{\u001B[39;00merr\u001B[38;5;241m.\u001B[39mdecode(\u001B[38;5;124m'\u001B[39m\u001B[38;5;124mutf8\u001B[39m\u001B[38;5;124m'\u001B[39m,\u001B[38;5;250m \u001B[39m\u001B[38;5;124m'\u001B[39m\u001B[38;5;124mignore\u001B[39m\u001B[38;5;124m'\u001B[39m)\u001B[38;5;132;01m}\u001B[39;00m\u001B[38;5;124m\"\u001B[39m\n\u001B[0;32m    600\u001B[0m     )\n",
      "\u001B[1;31mPDFInfoNotInstalledError\u001B[0m: Unable to get page count. Is poppler installed and in PATH?"
     ]
    }
   ],
   "source": [
    "# \n",
    "import easyocr\n",
    "import os\n",
    "from dotenv import load_dotenv\n",
    "from pdf2image import convert_from_path\n",
    "\n",
    "load_dotenv()\n",
    "pdf_path = os.getenv('TEST_PDF_PATH')\n",
    "\n",
    "reader = easyocr.Reader(['en']) \n",
    "\n",
    "# Convert your PDF to images\n",
    "images = convert_from_path('20231223.pdf')\n",
    "\n",
    "for image in images:\n",
    "    result = reader.readtext(image)\n",
    "    print(result)"
   ]
  },
  {
   "cell_type": "code",
   "outputs": [
    {
     "ename": "AttributeError",
     "evalue": "'Document' object has no attribute 'loadPage'",
     "output_type": "error",
     "traceback": [
      "\u001B[1;31m---------------------------------------------------------------------------\u001B[0m",
      "\u001B[1;31mAttributeError\u001B[0m                            Traceback (most recent call last)",
      "Cell \u001B[1;32mIn[8], line 9\u001B[0m\n\u001B[0;32m      5\u001B[0m \u001B[38;5;66;03m# Iterate through each page\u001B[39;00m\n\u001B[0;32m      6\u001B[0m \u001B[38;5;28;01mfor\u001B[39;00m page_number \u001B[38;5;129;01min\u001B[39;00m \u001B[38;5;28mrange\u001B[39m(\u001B[38;5;28mlen\u001B[39m(pdf_document)):\n\u001B[0;32m      7\u001B[0m    \n\u001B[0;32m      8\u001B[0m     \u001B[38;5;66;03m# Get the page\u001B[39;00m\n\u001B[1;32m----> 9\u001B[0m     page \u001B[38;5;241m=\u001B[39m \u001B[43mpdf_document\u001B[49m\u001B[38;5;241;43m.\u001B[39;49m\u001B[43mloadPage\u001B[49m(page_number)\n\u001B[0;32m     11\u001B[0m     \u001B[38;5;66;03m# Render the page to an image (pixmap)\u001B[39;00m\n\u001B[0;32m     12\u001B[0m     pixmap \u001B[38;5;241m=\u001B[39m page\u001B[38;5;241m.\u001B[39mget_pixmap()\n",
      "\u001B[1;31mAttributeError\u001B[0m: 'Document' object has no attribute 'loadPage'"
     ]
    }
   ],
   "source": [
    "import fitz\n",
    "\n",
    "pdf_document = fitz.open('20231223.pdf')\n",
    "\n",
    "# Iterate through each page\n",
    "for page_number in range(len(pdf_document)):\n",
    "   \n",
    "    # Get the page\n",
    "    page = pdf_document.loadPage(page_number)\n",
    "\n",
    "    # Render the page to an image (pixmap)\n",
    "    pixmap = page.get_pixmap()\n",
    "\n",
    "    # Save the image\n",
    "    pixmap.save(f\"page_{page_number}.png\")"
   ],
   "metadata": {
    "collapsed": false,
    "ExecuteTime": {
     "end_time": "2024-01-06T15:38:44.853278300Z",
     "start_time": "2024-01-06T15:38:44.823478800Z"
    }
   },
   "id": "558226011a8c4f62",
   "execution_count": 8
  }
 ],
 "metadata": {
  "kernelspec": {
   "display_name": "Python 3",
   "language": "python",
   "name": "python3"
  },
  "language_info": {
   "codemirror_mode": {
    "name": "ipython",
    "version": 2
   },
   "file_extension": ".py",
   "mimetype": "text/x-python",
   "name": "python",
   "nbconvert_exporter": "python",
   "pygments_lexer": "ipython2",
   "version": "2.7.6"
  }
 },
 "nbformat": 4,
 "nbformat_minor": 5
}
