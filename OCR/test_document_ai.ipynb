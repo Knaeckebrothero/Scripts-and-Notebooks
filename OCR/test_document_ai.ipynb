{
 "cells": [
  {
   "cell_type": "code",
   "execution_count": null,
   "id": "initial_id",
   "metadata": {
    "collapsed": true
   },
   "outputs": [],
   "source": [
    "# https://huggingface.co/microsoft/table-transformer-structure-recognition-v1.1-all\n",
    "# https://huggingface.co/docs/transformers/main/en/model_doc/table-transformer"
   ]
  },
  {
   "metadata": {},
   "cell_type": "code",
   "outputs": [],
   "execution_count": null,
   "source": [
    "from transformers import TableTransformerForObjectDetection, DetrImageProcessor\n",
    "from PIL import Image\n",
    "import requests\n",
    "\n",
    "\n",
    "# Load the model and processor\n",
    "model = TableTransformerForObjectDetection.from_pretrained(\"microsoft/table-transformer-structure-recognition-v1.1-all\")\n",
    "processor = DetrImageProcessor.from_pretrained(\"microsoft/table-transformer-structure-recognition-v1.1-all\")\n"
   ],
   "id": "2d52fd0ae2015a66"
  },
  {
   "metadata": {},
   "cell_type": "code",
   "outputs": [],
   "execution_count": null,
   "source": [
    "image = Image.open(\"table.png\")\n",
    "\n",
    "# Preprocess the image\n",
    "inputs = processor(images=image, return_tensors=\"pt\")\n",
    "\n",
    "# Perform inference\n",
    "outputs = model(**inputs)\n"
   ],
   "id": "4affb6d4a6a1fb3"
  },
  {
   "metadata": {},
   "cell_type": "code",
   "outputs": [],
   "execution_count": null,
   "source": [
    "# Extract the bounding boxes and labels\n",
    "results = processor.post_process_object_detection(outputs, target_sizes=[image.size[::-1]])[0]\n",
    "\n",
    "# Extract table structure and text content\n",
    "for score, label, box in zip(results[\"scores\"], results[\"labels\"], results[\"boxes\"]):\n",
    "    if score > 0.5:  # Threshold for confidence\n",
    "        box = [round(i, 2) for i in box.tolist()]\n",
    "        print(f\"Detected {model.config.id2label[label.item()]} with confidence {round(score.item(), 3)} at location {box}\")\n"
   ],
   "id": "e979ec9d9551596e"
  }
 ],
 "metadata": {
  "kernelspec": {
   "display_name": "Python 3",
   "language": "python",
   "name": "python3"
  },
  "language_info": {
   "codemirror_mode": {
    "name": "ipython",
    "version": 2
   },
   "file_extension": ".py",
   "mimetype": "text/x-python",
   "name": "python",
   "nbconvert_exporter": "python",
   "pygments_lexer": "ipython2",
   "version": "2.7.6"
  }
 },
 "nbformat": 4,
 "nbformat_minor": 5
}
