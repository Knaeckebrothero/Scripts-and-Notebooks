{
 "cells": [
  {
   "cell_type": "code",
   "execution_count": null,
   "metadata": {},
   "outputs": [],
   "source": [
    "# Load the images\n",
    "import os\n",
    "import dotenv\n",
    "\n",
    "dotenv.load_dotenv(dotenv.find_dotenv())\n",
    "path = os.getenv(\"IMAGES_PATH\")"
   ]
  },
  {
   "cell_type": "code",
   "execution_count": null,
   "metadata": {},
   "outputs": [],
   "source": [
    "from PIL import Image\n",
    "import pytesseract\n",
    "\n",
    "def extract_text(filepath):\n",
    "    text = None\n",
    "    \n",
    "    # check if the file is an image\n",
    "    if filepath.endswith(\".png\") or filepath.endswith(\".jpg\"):\n",
    "        # open the image file\n",
    "        img = Image.open(filepath)\n",
    "        # use pytesseract to extract text from the image\n",
    "        text = pytesseract.image_to_string(img)\n",
    "        # add the extracted text to the list\n",
    "    \n",
    "    # return the text\n",
    "    return text"
   ]
  },
  {
   "cell_type": "code",
   "execution_count": null,
   "metadata": {},
   "outputs": [],
   "source": [
    "# print the list of extracted texts\n",
    "print(extract_text(''))"
   ]
  },
  {
   "cell_type": "code",
   "execution_count": null,
   "metadata": {},
   "outputs": [],
   "source": [
    "# loop over each file in the directory\n",
    "for filename in os.listdir(path):\n",
    "    extract_text(path + '\\\\' + filename)"
   ]
  },
  {
   "cell_type": "code",
   "execution_count": null,
   "metadata": {},
   "outputs": [],
   "source": [
    "import cv2\n",
    "import math\n",
    "\n",
    "def preprocess_image(image_path):\n",
    "    # Load the image\n",
    "    img = cv2.imread(image_path)\n",
    "    \n",
    "    # Convert to grayscale\n",
    "    img = cv2.cvtColor(img, cv2.COLOR_BGR2GRAY)\n",
    "\n",
    "    # Edge detection and find horizontal lines, adjust parameters as needed\n",
    "    edges = cv2.Canny(img, 50, 150, apertureSize=3)\n",
    "    lines = cv2.HoughLinesP(edges, 1, math.pi/180, 100, minLineLength=1000, maxLineGap=50)\n",
    "\n",
    "    # Ensure lines were found before proceeding\n",
    "    if lines is not None:\n",
    "        # Calculate split points\n",
    "        split_points = [line[0][1] for line in lines]\n",
    "        split_points.sort()\n",
    "\n",
    "        # Assuming uniform height for each thumbnail (adjust as necessary)\n",
    "        thumbnails = [img[split_points[i]:split_points[i+1]] for i in range(len(split_points)-1)]\n",
    "        return thumbnails\n",
    "    else:\n",
    "        return []\n",
    "\n",
    "# Example usage\n",
    "thumbnails = preprocess_image(\"...\")\n",
    "\n",
    "# Save or process these thumbnails as needed\n",
    "# Save or process these thumbnails as needed\n",
    "for i, thumb in enumerate(thumbnails):\n",
    "    if thumb.size > 0:\n",
    "        cv2.imwrite(f\"thumbnail_{i}.png\", thumb)\n",
    "    else:\n",
    "        print(f\"Thumbnail {i} is empty\")\n",
    "    # Further processing like OCR can go here"
   ]
  },
  {
   "cell_type": "code",
   "execution_count": null,
   "metadata": {},
   "outputs": [],
   "source": [
    "import cv2\n",
    "\n",
    "# Cut and preprocess the images\n",
    "def cutImage(image_path):\n",
    "    \n",
    "    # List of Videos to return\n",
    "    videos = []\n",
    "\n",
    "    # Load the image\n",
    "    img = cv2.imread(image_path)\n",
    "\n",
    "    # Convert to grayscale\n",
    "    gray = cv2.cvtColor(img, cv2.COLOR_BGR2GRAY)\n",
    "\n",
    "    # Make the image binary and find the contours\n",
    "    adaptive_thresh = cv2.adaptiveThreshold(gray, 255, cv2.ADAPTIVE_THRESH_GAUSSIAN_C, cv2.THRESH_BINARY_INV, 11, 2)\n",
    "    contours, _ = cv2.findContours(adaptive_thresh, cv2.RETR_EXTERNAL, cv2.CHAIN_APPROX_SIMPLE)\n",
    "\n",
    "    # Filter and sort the contours\n",
    "    filtered_contours = [cnt for cnt in contours if cv2.contourArea(cnt) > 5000]\n",
    "    filtered_contours.sort(key=lambda x: cv2.boundingRect(x)[1])\n",
    "\n",
    "    # Cut the images and add them to the list\n",
    "    for cnt in filtered_contours:\n",
    "        y, w, h = cv2.boundingRect(cnt)\n",
    "        if w > h:\n",
    "            thumbnail = img[y:y+h]\n",
    "            videos.append(thumbnail)\n",
    "    \n",
    "    # Return the list of videos\n",
    "    return videos"
   ]
  },
  {
   "cell_type": "code",
   "execution_count": null,
   "metadata": {},
   "outputs": [],
   "source": [
    "if not os.path.exists(os.path.join(path, 'cut')):\n",
    "    os.makedirs(os.path.join(path, 'cut'))\n",
    "\n",
    "for i, video_item in enumerate(cutImage(test_path)):\n",
    "    t_path = os.path.join(path, f'cut/video_item_{i}.png')\n",
    "    cv2.imwrite(t_path, video_item)"
   ]
  }
 ],
 "metadata": {
  "kernelspec": {
   "display_name": "Python 3",
   "language": "python",
   "name": "python3"
  },
  "language_info": {
   "codemirror_mode": {
    "name": "ipython",
    "version": 3
   },
   "file_extension": ".py",
   "mimetype": "text/x-python",
   "name": "python",
   "nbconvert_exporter": "python",
   "pygments_lexer": "ipython3",
   "version": "3.12.0"
  }
 },
 "nbformat": 4,
 "nbformat_minor": 2
}
